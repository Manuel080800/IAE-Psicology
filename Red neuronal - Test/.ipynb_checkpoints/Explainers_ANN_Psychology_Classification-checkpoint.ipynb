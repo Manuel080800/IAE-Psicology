{
 "cells": [
  {
   "cell_type": "markdown",
   "id": "5689c09f",
   "metadata": {},
   "source": [
    "# Explaining ANN (Classification) to identify depression"
   ]
  },
  {
   "cell_type": "markdown",
   "id": "67a22dac",
   "metadata": {},
   "source": [
    "## Import all necessary libraries"
   ]
  },
  {
   "cell_type": "markdown",
   "id": "7e2c7f90",
   "metadata": {},
   "source": [
    "Of the following imports, the most important libraries are: sklearn.neural_network and sklearn.metrics."
   ]
  },
  {
   "cell_type": "code",
   "execution_count": 1,
   "id": "938a361c",
   "metadata": {},
   "outputs": [],
   "source": [
    "import joblib\n",
    "import dice_ml\n",
    "import pandas as pd\n",
    "import matplotlib.pyplot as plt\n",
    "import numpy as np\n",
    "from sklearn.model_selection import train_test_split\n",
    "from explainerdashboard import ClassifierExplainer, ExplainerDashboard\n",
    "from sklearn.metrics import ConfusionMatrixDisplay\n",
    "from sklearn.metrics import precision_recall_fscore_support\n",
    "from sklearn.metrics import classification_report, confusion_matrix, accuracy_score\n",
    "from sklearn.neural_network import MLPClassifier\n",
    "from sklearn.model_selection import cross_val_score\n",
    "from sklearn.metrics import mean_squared_error\n",
    "from imblearn.over_sampling import SMOTE\n",
    "from alibi.explainers.ale import ALE, plot_ale"
   ]
  },
  {
   "cell_type": "markdown",
   "id": "7d5c6cd9",
   "metadata": {},
   "source": [
    "## Defining global variables"
   ]
  },
  {
   "cell_type": "markdown",
   "id": "09553370",
   "metadata": {},
   "source": [
    "The following variables defined below can be modified according to the given approach."
   ]
  },
  {
   "cell_type": "code",
   "execution_count": 2,
   "id": "edd61aea",
   "metadata": {},
   "outputs": [],
   "source": [
    "## Global variable designated for data loading\n",
    "df_base = pd.read_csv(\"Dataset_MO_ENG.csv\")\n",
    "\n",
    "## Global variables designated for threshold control\n",
    "positive_threshold = 0.01\n",
    "negative_threshold = -0.01"
   ]
  },
  {
   "cell_type": "markdown",
   "id": "e7c5377b",
   "metadata": {},
   "source": [
    "## Defining private variables"
   ]
  },
  {
   "cell_type": "markdown",
   "id": "8a9d50de",
   "metadata": {},
   "source": [
    "The following variables defined below cannot be modified since they are an integral part of its operation."
   ]
  },
  {
   "cell_type": "code",
   "execution_count": 3,
   "id": "6f8f6027",
   "metadata": {},
   "outputs": [],
   "source": [
    "## Private variables for the neural network by classification\n",
    "class_dic = { 1: 0 , 2: 0, 3:1, 4:2, 5:2}\n",
    "target_namesbase = [\"Low\", \"Medium\", \"High\"]\n",
    "\n",
    "## private variables for oversample\n",
    "random_state = 13\n",
    "oversample = SMOTE(random_state=random_state)\n",
    "\n",
    "## private variables for neural network generation\n",
    "seedbase = 1"
   ]
  },
  {
   "cell_type": "markdown",
   "id": "92aa71f6",
   "metadata": {},
   "source": [
    "## Preparing the data for the neural network"
   ]
  },
  {
   "cell_type": "markdown",
   "id": "25b5e206",
   "metadata": {},
   "source": [
    "The data is prepared in order to be processed by the neural network."
   ]
  },
  {
   "cell_type": "code",
   "execution_count": null,
   "id": "10cee9f8",
   "metadata": {},
   "outputs": [],
   "source": []
  }
 ],
 "metadata": {
  "kernelspec": {
   "display_name": "Python 3 (ipykernel)",
   "language": "python",
   "name": "python3"
  },
  "language_info": {
   "codemirror_mode": {
    "name": "ipython",
    "version": 3
   },
   "file_extension": ".py",
   "mimetype": "text/x-python",
   "name": "python",
   "nbconvert_exporter": "python",
   "pygments_lexer": "ipython3",
   "version": "3.10.6"
  }
 },
 "nbformat": 4,
 "nbformat_minor": 5
}
