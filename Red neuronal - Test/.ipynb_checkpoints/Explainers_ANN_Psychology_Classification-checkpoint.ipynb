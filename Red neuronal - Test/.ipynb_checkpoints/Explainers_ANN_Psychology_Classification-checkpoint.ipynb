{
 "cells": [
  {
   "cell_type": "markdown",
   "id": "5689c09f",
   "metadata": {},
   "source": [
    "# Explaining ANN (Classification) to identify depression"
   ]
  },
  {
   "cell_type": "markdown",
   "id": "67a22dac",
   "metadata": {},
   "source": [
    "## Import all necessary libraries"
   ]
  },
  {
   "cell_type": "markdown",
   "id": "7e2c7f90",
   "metadata": {},
   "source": [
    "Of the following imports, the most important libraries are: sklearn.neural_network and sklearn.metrics."
   ]
  },
  {
   "cell_type": "code",
   "execution_count": 8,
   "id": "938a361c",
   "metadata": {},
   "outputs": [],
   "source": [
    "import joblib\n",
    "import dice_ml\n",
    "import pandas as pd\n",
    "import matplotlib.pyplot as plt\n",
    "import numpy as np\n",
    "from sklearn.model_selection import train_test_split\n",
    "from explainerdashboard import ClassifierExplainer, ExplainerDashboard\n",
    "from sklearn.metrics import ConfusionMatrixDisplay\n",
    "from sklearn.metrics import precision_recall_fscore_support\n",
    "from sklearn.metrics import classification_report, confusion_matrix, accuracy_score\n",
    "from sklearn.neural_network import MLPClassifier\n",
    "from sklearn.model_selection import cross_val_score\n",
    "from sklearn.metrics import mean_squared_error\n",
    "from imblearn.over_sampling import SMOTE\n",
    "from alibi.explainers.ale import ALE, plot_ale"
   ]
  },
  {
   "cell_type": "markdown",
   "id": "7d5c6cd9",
   "metadata": {},
   "source": [
    "## Defining global variables"
   ]
  },
  {
   "cell_type": "markdown",
   "id": "09553370",
   "metadata": {},
   "source": [
    "The following variables defined below can be modified according to the given approach."
   ]
  },
  {
   "cell_type": "code",
   "execution_count": 9,
   "id": "edd61aea",
   "metadata": {},
   "outputs": [],
   "source": [
    "## Global variable designated for data loading.\n",
    "df = pd.read_csv(\"Dataset_MO_ENG.csv\")\n",
    "\n",
    "## Global variables designated for threshold control.\n",
    "positive_threshold = 0.01\n",
    "negative_threshold = -0.01"
   ]
  },
  {
   "cell_type": "markdown",
   "id": "e7c5377b",
   "metadata": {},
   "source": [
    "## Defining private variables"
   ]
  },
  {
   "cell_type": "markdown",
   "id": "8a9d50de",
   "metadata": {},
   "source": [
    "The following variables defined below cannot be modified since they are an integral part of its operation."
   ]
  },
  {
   "cell_type": "code",
   "execution_count": 10,
   "id": "6f8f6027",
   "metadata": {},
   "outputs": [],
   "source": [
    "## Private variables for the neural network by classification.\n",
    "class_dic = { 1: 0 , 2: 0, 3:1, 4:2, 5:2}\n",
    "target_namesbase = [\"Low\", \"Medium\", \"High\"]\n",
    "\n",
    "## Private variables for oversample.\n",
    "random_state = 13\n",
    "oversample = SMOTE(random_state=random_state)\n",
    "\n",
    "## Private variables for neural network generation.\n",
    "seedbase = 1"
   ]
  },
  {
   "cell_type": "markdown",
   "id": "9026bbbf",
   "metadata": {},
   "source": [
    "## Preparing the data for the neural network"
   ]
  },
  {
   "cell_type": "markdown",
   "id": "8e8cb867",
   "metadata": {},
   "source": [
    "The data is prepared in order to be processed by the neural network."
   ]
  },
  {
   "cell_type": "code",
   "execution_count": 11,
   "id": "bb1a1985",
   "metadata": {},
   "outputs": [],
   "source": [
    "## Eliminating physical-related questions in dataset.\n",
    "df = df_base.drop(df.columns[102:-1], axis=1)\n",
    "\n",
    "## Grouping of the target according to the defined dictionary.\n",
    "df ['Target'] = df ['Target'].map(class_dic)\n",
    "\n",
    "## Assignment of local variables according to the data necessary for the neural network.\n",
    "train_colsbase = df_base.columns [0:-1]\n",
    "labelbase = df_base.columns [-1]\n",
    "X = df [train_colsbase]\n",
    "y = df [labelbase]"
   ]
  },
  {
   "cell_type": "markdown",
   "id": "6d71e66f",
   "metadata": {},
   "source": [
    "## Oversample application"
   ]
  },
  {
   "cell_type": "markdown",
   "id": "24ae1800",
   "metadata": {},
   "source": [
    "An oversample process is applied to level the amount of existing data given by the grouping."
   ]
  },
  {
   "cell_type": "code",
   "execution_count": null,
   "id": "6dc4b748",
   "metadata": {},
   "outputs": [],
   "source": [
    "X, y = oversample.fit_resample(X, y)"
   ]
  },
  {
   "cell_type": "markdown",
   "id": "4074f252",
   "metadata": {},
   "source": [
    "## Preparation of the parameters of the neural network"
   ]
  },
  {
   "cell_type": "markdown",
   "id": "d94392ef",
   "metadata": {},
   "source": [
    "We proceed to define the parameters necessary for the training of the neural network."
   ]
  },
  {
   "cell_type": "code",
   "execution_count": 13,
   "id": "fb1762a1",
   "metadata": {},
   "outputs": [],
   "source": [
    "X_train, X_test, y_train, y_test = train_test_split(X, y, test_size=0.33, random_state=seedbase)"
   ]
  },
  {
   "cell_type": "markdown",
   "id": "e6ab4035",
   "metadata": {},
   "source": [
    "## Neural network training"
   ]
  },
  {
   "cell_type": "markdown",
   "id": "99d02800",
   "metadata": {},
   "source": [
    "The alpha parameters and the initial learning rate are adjusted to obtain the best performance with the model.\n",
    "using cross validation."
   ]
  },
  {
   "cell_type": "code",
   "execution_count": null,
   "id": "5c89f456",
   "metadata": {},
   "outputs": [],
   "source": [
    "## Local variables are defined for the storage of the scores obtained by the training.\n",
    "cv_scores_mean = []\n",
    "cv_scores_std = []\n",
    "\n",
    "## Training and validation of different configurations.\n",
    "regul_param_range = 10.0 ** -np.arange(-2, 7)\n",
    "\n",
    "for regul_param in regul_param_range:\n",
    "    \n",
    "    ## Increase the max_iter parameter until it converges.\n",
    "    mlp = MLPClassifier(hidden_layer_sizes=(10,), activation='logistic', solver='adam', alpha=regul_param, \n",
    "             learning_rate='constant', learning_rate_init=0.0001, max_iter=100000, random_state=seed)\n",
    "    \n",
    "    scores = cross_val_score(mlp, X, y, cv=5, scoring='f1_macro')\n",
    "    \n",
    "    cv_scores_mean.append(scores.mean())\n",
    "    cv_scores_std.append(scores.std())\n",
    "    \n",
    "## The results obtained during the training are printed.\n",
    "cv_scores_mean, cv_scores_std"
   ]
  }
 ],
 "metadata": {
  "kernelspec": {
   "display_name": "Python 3 (ipykernel)",
   "language": "python",
   "name": "python3"
  },
  "language_info": {
   "codemirror_mode": {
    "name": "ipython",
    "version": 3
   },
   "file_extension": ".py",
   "mimetype": "text/x-python",
   "name": "python",
   "nbconvert_exporter": "python",
   "pygments_lexer": "ipython3",
   "version": "3.10.6"
  }
 },
 "nbformat": 4,
 "nbformat_minor": 5
}
