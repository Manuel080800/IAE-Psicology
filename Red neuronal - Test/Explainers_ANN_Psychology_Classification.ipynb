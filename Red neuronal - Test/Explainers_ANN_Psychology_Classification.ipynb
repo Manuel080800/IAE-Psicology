{
 "cells": [
  {
   "cell_type": "markdown",
   "id": "5689c09f",
   "metadata": {},
   "source": [
    "# Explaining ANN (Classification) to identify depression"
   ]
  },
  {
   "cell_type": "markdown",
   "id": "67a22dac",
   "metadata": {},
   "source": [
    "## Import all necessary libraries"
   ]
  },
  {
   "cell_type": "markdown",
   "id": "7e2c7f90",
   "metadata": {},
   "source": [
    "Of the following imports, the most important libraries are: sklearn.neural_network and sklearn.metrics."
   ]
  },
  {
   "cell_type": "code",
   "execution_count": 65,
   "id": "938a361c",
   "metadata": {},
   "outputs": [],
   "source": [
    "import joblib\n",
    "import dice_ml\n",
    "import pandas as pd\n",
    "import matplotlib.pyplot as plt\n",
    "import numpy as np\n",
    "from sklearn.model_selection import train_test_split\n",
    "from explainerdashboard import ClassifierExplainer, ExplainerDashboard\n",
    "from sklearn.metrics import ConfusionMatrixDisplay\n",
    "from sklearn.metrics import precision_recall_fscore_support\n",
    "from sklearn.metrics import classification_report, confusion_matrix, accuracy_score\n",
    "from sklearn.neural_network import MLPClassifier\n",
    "from sklearn.model_selection import cross_val_score\n",
    "from sklearn.metrics import mean_squared_error\n",
    "from imblearn.over_sampling import SMOTE\n",
    "from alibi.explainers.ale import ALE, plot_ale"
   ]
  },
  {
   "cell_type": "markdown",
   "id": "7d5c6cd9",
   "metadata": {},
   "source": [
    "## Defining global variables"
   ]
  },
  {
   "cell_type": "markdown",
   "id": "09553370",
   "metadata": {},
   "source": [
    "The following variables defined below can be modified according to the given approach."
   ]
  },
  {
   "cell_type": "code",
   "execution_count": 66,
   "id": "edd61aea",
   "metadata": {},
   "outputs": [],
   "source": [
    "## Global variable designated for data loading.\n",
    "df = pd.read_csv(\"Dataset_MO_ENG.csv\")\n",
    "\n",
    "## Global variables designated for threshold control.\n",
    "positive_threshold = 0.01\n",
    "negative_threshold = -0.01"
   ]
  },
  {
   "cell_type": "markdown",
   "id": "e7c5377b",
   "metadata": {},
   "source": [
    "## Defining private variables"
   ]
  },
  {
   "cell_type": "markdown",
   "id": "8a9d50de",
   "metadata": {},
   "source": [
    "The following variables defined below cannot be modified since they are an integral part of its operation."
   ]
  },
  {
   "cell_type": "code",
   "execution_count": 67,
   "id": "6f8f6027",
   "metadata": {},
   "outputs": [],
   "source": [
    "## Private variables for the neural network by classification.\n",
    "class_dic = { 1: 0 , 2: 0, 3:1, 4:2, 5:2}\n",
    "target_namesbase = [\"Low\", \"Medium\", \"High\"]\n",
    "\n",
    "## Private variables for oversample.\n",
    "random_state = 13\n",
    "oversample = SMOTE(random_state=random_state)\n",
    "\n",
    "## Private variables for neural network generation.\n",
    "seed = 1\n",
    "regul_param_range = 10.0 ** -np.arange(-2, 7)"
   ]
  },
  {
   "cell_type": "markdown",
   "id": "58626348",
   "metadata": {},
   "source": [
    "## Preparing the data for the neural network"
   ]
  },
  {
   "cell_type": "markdown",
   "id": "720ea762",
   "metadata": {},
   "source": [
    "The data is prepared in order to be processed by the neural network."
   ]
  },
  {
   "cell_type": "code",
   "execution_count": 68,
   "id": "72dbf409",
   "metadata": {},
   "outputs": [
    {
     "data": {
      "text/html": [
       "<div>\n",
       "<style scoped>\n",
       "    .dataframe tbody tr th:only-of-type {\n",
       "        vertical-align: middle;\n",
       "    }\n",
       "\n",
       "    .dataframe tbody tr th {\n",
       "        vertical-align: top;\n",
       "    }\n",
       "\n",
       "    .dataframe thead th {\n",
       "        text-align: right;\n",
       "    }\n",
       "</style>\n",
       "<table border=\"1\" class=\"dataframe\">\n",
       "  <thead>\n",
       "    <tr style=\"text-align: right;\">\n",
       "      <th></th>\n",
       "      <th>1. Most of the time I have difficulty concentrating on simple tasks</th>\n",
       "      <th>2. I don't feel like doing my daily duties</th>\n",
       "      <th>3. My friends or family have told me that I look different</th>\n",
       "      <th>4. When I think about the future it is difficult for me to imagine it clearly</th>\n",
       "      <th>5. People around me often ask me how I feel</th>\n",
       "      <th>6. I consider that my life is full of good things</th>\n",
       "      <th>7. My hobbies are still important to me</th>\n",
       "      <th>8. I'm still as punctual as I have always been</th>\n",
       "      <th>9. If I had the chance, I would spend all day in my bed</th>\n",
       "      <th>10. I have found that I can spend a lot of time scrolling the screen \\nof my cell phone without searching or stopping at anything in particular</th>\n",
       "      <th>...</th>\n",
       "      <th>94. I lose control easily</th>\n",
       "      <th>95. Neighbors must put up with each other's noises without complaining</th>\n",
       "      <th>96. Littering on public roads is wrong</th>\n",
       "      <th>97. People who commit crimes have their reasons for doing it</th>\n",
       "      <th>98. It is normal to change jobs several times a year</th>\n",
       "      <th>99. It is important to respect turns</th>\n",
       "      <th>100. I could pretend to be someone else to achieve what I want</th>\n",
       "      <th>101. I consider it important that all people have the same rights</th>\n",
       "      <th>102. I have a hard time taking  \"no\" for an answer</th>\n",
       "      <th>Target</th>\n",
       "    </tr>\n",
       "  </thead>\n",
       "  <tbody>\n",
       "    <tr>\n",
       "      <th>0</th>\n",
       "      <td>1</td>\n",
       "      <td>1</td>\n",
       "      <td>0</td>\n",
       "      <td>1</td>\n",
       "      <td>0</td>\n",
       "      <td>1</td>\n",
       "      <td>1</td>\n",
       "      <td>1</td>\n",
       "      <td>0</td>\n",
       "      <td>0</td>\n",
       "      <td>...</td>\n",
       "      <td>1</td>\n",
       "      <td>1</td>\n",
       "      <td>0</td>\n",
       "      <td>0</td>\n",
       "      <td>1</td>\n",
       "      <td>0</td>\n",
       "      <td>1</td>\n",
       "      <td>0</td>\n",
       "      <td>1</td>\n",
       "      <td>0</td>\n",
       "    </tr>\n",
       "    <tr>\n",
       "      <th>1</th>\n",
       "      <td>1</td>\n",
       "      <td>0</td>\n",
       "      <td>1</td>\n",
       "      <td>1</td>\n",
       "      <td>0</td>\n",
       "      <td>1</td>\n",
       "      <td>1</td>\n",
       "      <td>1</td>\n",
       "      <td>0</td>\n",
       "      <td>0</td>\n",
       "      <td>...</td>\n",
       "      <td>0</td>\n",
       "      <td>1</td>\n",
       "      <td>0</td>\n",
       "      <td>0</td>\n",
       "      <td>1</td>\n",
       "      <td>0</td>\n",
       "      <td>1</td>\n",
       "      <td>1</td>\n",
       "      <td>0</td>\n",
       "      <td>0</td>\n",
       "    </tr>\n",
       "    <tr>\n",
       "      <th>2</th>\n",
       "      <td>0</td>\n",
       "      <td>0</td>\n",
       "      <td>0</td>\n",
       "      <td>0</td>\n",
       "      <td>1</td>\n",
       "      <td>1</td>\n",
       "      <td>1</td>\n",
       "      <td>0</td>\n",
       "      <td>0</td>\n",
       "      <td>1</td>\n",
       "      <td>...</td>\n",
       "      <td>0</td>\n",
       "      <td>1</td>\n",
       "      <td>0</td>\n",
       "      <td>0</td>\n",
       "      <td>1</td>\n",
       "      <td>0</td>\n",
       "      <td>1</td>\n",
       "      <td>0</td>\n",
       "      <td>1</td>\n",
       "      <td>1</td>\n",
       "    </tr>\n",
       "    <tr>\n",
       "      <th>3</th>\n",
       "      <td>0</td>\n",
       "      <td>0</td>\n",
       "      <td>0</td>\n",
       "      <td>1</td>\n",
       "      <td>0</td>\n",
       "      <td>1</td>\n",
       "      <td>1</td>\n",
       "      <td>1</td>\n",
       "      <td>1</td>\n",
       "      <td>0</td>\n",
       "      <td>...</td>\n",
       "      <td>0</td>\n",
       "      <td>1</td>\n",
       "      <td>0</td>\n",
       "      <td>1</td>\n",
       "      <td>1</td>\n",
       "      <td>0</td>\n",
       "      <td>1</td>\n",
       "      <td>0</td>\n",
       "      <td>1</td>\n",
       "      <td>2</td>\n",
       "    </tr>\n",
       "    <tr>\n",
       "      <th>4</th>\n",
       "      <td>1</td>\n",
       "      <td>1</td>\n",
       "      <td>0</td>\n",
       "      <td>1</td>\n",
       "      <td>0</td>\n",
       "      <td>1</td>\n",
       "      <td>0</td>\n",
       "      <td>1</td>\n",
       "      <td>1</td>\n",
       "      <td>1</td>\n",
       "      <td>...</td>\n",
       "      <td>0</td>\n",
       "      <td>1</td>\n",
       "      <td>0</td>\n",
       "      <td>0</td>\n",
       "      <td>1</td>\n",
       "      <td>0</td>\n",
       "      <td>1</td>\n",
       "      <td>0</td>\n",
       "      <td>0</td>\n",
       "      <td>0</td>\n",
       "    </tr>\n",
       "    <tr>\n",
       "      <th>...</th>\n",
       "      <td>...</td>\n",
       "      <td>...</td>\n",
       "      <td>...</td>\n",
       "      <td>...</td>\n",
       "      <td>...</td>\n",
       "      <td>...</td>\n",
       "      <td>...</td>\n",
       "      <td>...</td>\n",
       "      <td>...</td>\n",
       "      <td>...</td>\n",
       "      <td>...</td>\n",
       "      <td>...</td>\n",
       "      <td>...</td>\n",
       "      <td>...</td>\n",
       "      <td>...</td>\n",
       "      <td>...</td>\n",
       "      <td>...</td>\n",
       "      <td>...</td>\n",
       "      <td>...</td>\n",
       "      <td>...</td>\n",
       "      <td>...</td>\n",
       "    </tr>\n",
       "    <tr>\n",
       "      <th>99</th>\n",
       "      <td>1</td>\n",
       "      <td>1</td>\n",
       "      <td>1</td>\n",
       "      <td>0</td>\n",
       "      <td>0</td>\n",
       "      <td>1</td>\n",
       "      <td>1</td>\n",
       "      <td>1</td>\n",
       "      <td>0</td>\n",
       "      <td>1</td>\n",
       "      <td>...</td>\n",
       "      <td>0</td>\n",
       "      <td>1</td>\n",
       "      <td>1</td>\n",
       "      <td>1</td>\n",
       "      <td>1</td>\n",
       "      <td>1</td>\n",
       "      <td>1</td>\n",
       "      <td>0</td>\n",
       "      <td>1</td>\n",
       "      <td>2</td>\n",
       "    </tr>\n",
       "    <tr>\n",
       "      <th>100</th>\n",
       "      <td>1</td>\n",
       "      <td>1</td>\n",
       "      <td>0</td>\n",
       "      <td>0</td>\n",
       "      <td>1</td>\n",
       "      <td>1</td>\n",
       "      <td>1</td>\n",
       "      <td>0</td>\n",
       "      <td>0</td>\n",
       "      <td>0</td>\n",
       "      <td>...</td>\n",
       "      <td>0</td>\n",
       "      <td>1</td>\n",
       "      <td>0</td>\n",
       "      <td>1</td>\n",
       "      <td>1</td>\n",
       "      <td>0</td>\n",
       "      <td>0</td>\n",
       "      <td>0</td>\n",
       "      <td>0</td>\n",
       "      <td>1</td>\n",
       "    </tr>\n",
       "    <tr>\n",
       "      <th>101</th>\n",
       "      <td>0</td>\n",
       "      <td>0</td>\n",
       "      <td>1</td>\n",
       "      <td>1</td>\n",
       "      <td>1</td>\n",
       "      <td>1</td>\n",
       "      <td>1</td>\n",
       "      <td>0</td>\n",
       "      <td>1</td>\n",
       "      <td>1</td>\n",
       "      <td>...</td>\n",
       "      <td>0</td>\n",
       "      <td>1</td>\n",
       "      <td>0</td>\n",
       "      <td>0</td>\n",
       "      <td>1</td>\n",
       "      <td>1</td>\n",
       "      <td>1</td>\n",
       "      <td>1</td>\n",
       "      <td>1</td>\n",
       "      <td>0</td>\n",
       "    </tr>\n",
       "    <tr>\n",
       "      <th>102</th>\n",
       "      <td>1</td>\n",
       "      <td>0</td>\n",
       "      <td>0</td>\n",
       "      <td>0</td>\n",
       "      <td>1</td>\n",
       "      <td>1</td>\n",
       "      <td>1</td>\n",
       "      <td>1</td>\n",
       "      <td>1</td>\n",
       "      <td>1</td>\n",
       "      <td>...</td>\n",
       "      <td>0</td>\n",
       "      <td>1</td>\n",
       "      <td>1</td>\n",
       "      <td>0</td>\n",
       "      <td>1</td>\n",
       "      <td>0</td>\n",
       "      <td>1</td>\n",
       "      <td>1</td>\n",
       "      <td>0</td>\n",
       "      <td>2</td>\n",
       "    </tr>\n",
       "    <tr>\n",
       "      <th>103</th>\n",
       "      <td>1</td>\n",
       "      <td>1</td>\n",
       "      <td>0</td>\n",
       "      <td>0</td>\n",
       "      <td>0</td>\n",
       "      <td>1</td>\n",
       "      <td>1</td>\n",
       "      <td>0</td>\n",
       "      <td>0</td>\n",
       "      <td>1</td>\n",
       "      <td>...</td>\n",
       "      <td>0</td>\n",
       "      <td>1</td>\n",
       "      <td>0</td>\n",
       "      <td>0</td>\n",
       "      <td>1</td>\n",
       "      <td>0</td>\n",
       "      <td>1</td>\n",
       "      <td>0</td>\n",
       "      <td>1</td>\n",
       "      <td>2</td>\n",
       "    </tr>\n",
       "  </tbody>\n",
       "</table>\n",
       "<p>104 rows × 103 columns</p>\n",
       "</div>"
      ],
      "text/plain": [
       "     1. Most of the time I have difficulty concentrating on simple tasks  \\\n",
       "0                                                    1                     \n",
       "1                                                    1                     \n",
       "2                                                    0                     \n",
       "3                                                    0                     \n",
       "4                                                    1                     \n",
       "..                                                 ...                     \n",
       "99                                                   1                     \n",
       "100                                                  1                     \n",
       "101                                                  0                     \n",
       "102                                                  1                     \n",
       "103                                                  1                     \n",
       "\n",
       "     2. I don't feel like doing my daily duties  \\\n",
       "0                                             1   \n",
       "1                                             0   \n",
       "2                                             0   \n",
       "3                                             0   \n",
       "4                                             1   \n",
       "..                                          ...   \n",
       "99                                            1   \n",
       "100                                           1   \n",
       "101                                           0   \n",
       "102                                           0   \n",
       "103                                           1   \n",
       "\n",
       "     3. My friends or family have told me that I look different  \\\n",
       "0                                                    0            \n",
       "1                                                    1            \n",
       "2                                                    0            \n",
       "3                                                    0            \n",
       "4                                                    0            \n",
       "..                                                 ...            \n",
       "99                                                   1            \n",
       "100                                                  0            \n",
       "101                                                  1            \n",
       "102                                                  0            \n",
       "103                                                  0            \n",
       "\n",
       "     4. When I think about the future it is difficult for me to imagine it clearly  \\\n",
       "0                                                    1                               \n",
       "1                                                    1                               \n",
       "2                                                    0                               \n",
       "3                                                    1                               \n",
       "4                                                    1                               \n",
       "..                                                 ...                               \n",
       "99                                                   0                               \n",
       "100                                                  0                               \n",
       "101                                                  1                               \n",
       "102                                                  0                               \n",
       "103                                                  0                               \n",
       "\n",
       "     5. People around me often ask me how I feel  \\\n",
       "0                                              0   \n",
       "1                                              0   \n",
       "2                                              1   \n",
       "3                                              0   \n",
       "4                                              0   \n",
       "..                                           ...   \n",
       "99                                             0   \n",
       "100                                            1   \n",
       "101                                            1   \n",
       "102                                            1   \n",
       "103                                            0   \n",
       "\n",
       "     6. I consider that my life is full of good things  \\\n",
       "0                                                    1   \n",
       "1                                                    1   \n",
       "2                                                    1   \n",
       "3                                                    1   \n",
       "4                                                    1   \n",
       "..                                                 ...   \n",
       "99                                                   1   \n",
       "100                                                  1   \n",
       "101                                                  1   \n",
       "102                                                  1   \n",
       "103                                                  1   \n",
       "\n",
       "     7. My hobbies are still important to me  \\\n",
       "0                                          1   \n",
       "1                                          1   \n",
       "2                                          1   \n",
       "3                                          1   \n",
       "4                                          0   \n",
       "..                                       ...   \n",
       "99                                         1   \n",
       "100                                        1   \n",
       "101                                        1   \n",
       "102                                        1   \n",
       "103                                        1   \n",
       "\n",
       "     8. I'm still as punctual as I have always been  \\\n",
       "0                                                 1   \n",
       "1                                                 1   \n",
       "2                                                 0   \n",
       "3                                                 1   \n",
       "4                                                 1   \n",
       "..                                              ...   \n",
       "99                                                1   \n",
       "100                                               0   \n",
       "101                                               0   \n",
       "102                                               1   \n",
       "103                                               0   \n",
       "\n",
       "     9. If I had the chance, I would spend all day in my bed  \\\n",
       "0                                                    0         \n",
       "1                                                    0         \n",
       "2                                                    0         \n",
       "3                                                    1         \n",
       "4                                                    1         \n",
       "..                                                 ...         \n",
       "99                                                   0         \n",
       "100                                                  0         \n",
       "101                                                  1         \n",
       "102                                                  1         \n",
       "103                                                  0         \n",
       "\n",
       "     10. I have found that I can spend a lot of time scrolling the screen \\nof my cell phone without searching or stopping at anything in particular  \\\n",
       "0                                                    0                                                                                                 \n",
       "1                                                    0                                                                                                 \n",
       "2                                                    1                                                                                                 \n",
       "3                                                    0                                                                                                 \n",
       "4                                                    1                                                                                                 \n",
       "..                                                 ...                                                                                                 \n",
       "99                                                   1                                                                                                 \n",
       "100                                                  0                                                                                                 \n",
       "101                                                  1                                                                                                 \n",
       "102                                                  1                                                                                                 \n",
       "103                                                  1                                                                                                 \n",
       "\n",
       "     ...  94. I lose control easily  \\\n",
       "0    ...                          1   \n",
       "1    ...                          0   \n",
       "2    ...                          0   \n",
       "3    ...                          0   \n",
       "4    ...                          0   \n",
       "..   ...                        ...   \n",
       "99   ...                          0   \n",
       "100  ...                          0   \n",
       "101  ...                          0   \n",
       "102  ...                          0   \n",
       "103  ...                          0   \n",
       "\n",
       "     95. Neighbors must put up with each other's noises without complaining  \\\n",
       "0                                                    1                        \n",
       "1                                                    1                        \n",
       "2                                                    1                        \n",
       "3                                                    1                        \n",
       "4                                                    1                        \n",
       "..                                                 ...                        \n",
       "99                                                   1                        \n",
       "100                                                  1                        \n",
       "101                                                  1                        \n",
       "102                                                  1                        \n",
       "103                                                  1                        \n",
       "\n",
       "     96. Littering on public roads is wrong  \\\n",
       "0                                         0   \n",
       "1                                         0   \n",
       "2                                         0   \n",
       "3                                         0   \n",
       "4                                         0   \n",
       "..                                      ...   \n",
       "99                                        1   \n",
       "100                                       0   \n",
       "101                                       0   \n",
       "102                                       1   \n",
       "103                                       0   \n",
       "\n",
       "     97. People who commit crimes have their reasons for doing it  \\\n",
       "0                                                    0              \n",
       "1                                                    0              \n",
       "2                                                    0              \n",
       "3                                                    1              \n",
       "4                                                    0              \n",
       "..                                                 ...              \n",
       "99                                                   1              \n",
       "100                                                  1              \n",
       "101                                                  0              \n",
       "102                                                  0              \n",
       "103                                                  0              \n",
       "\n",
       "     98. It is normal to change jobs several times a year  \\\n",
       "0                                                    1      \n",
       "1                                                    1      \n",
       "2                                                    1      \n",
       "3                                                    1      \n",
       "4                                                    1      \n",
       "..                                                 ...      \n",
       "99                                                   1      \n",
       "100                                                  1      \n",
       "101                                                  1      \n",
       "102                                                  1      \n",
       "103                                                  1      \n",
       "\n",
       "     99. It is important to respect turns  \\\n",
       "0                                       0   \n",
       "1                                       0   \n",
       "2                                       0   \n",
       "3                                       0   \n",
       "4                                       0   \n",
       "..                                    ...   \n",
       "99                                      1   \n",
       "100                                     0   \n",
       "101                                     1   \n",
       "102                                     0   \n",
       "103                                     0   \n",
       "\n",
       "     100. I could pretend to be someone else to achieve what I want  \\\n",
       "0                                                    1                \n",
       "1                                                    1                \n",
       "2                                                    1                \n",
       "3                                                    1                \n",
       "4                                                    1                \n",
       "..                                                 ...                \n",
       "99                                                   1                \n",
       "100                                                  0                \n",
       "101                                                  1                \n",
       "102                                                  1                \n",
       "103                                                  1                \n",
       "\n",
       "     101. I consider it important that all people have the same rights  \\\n",
       "0                                                    0                   \n",
       "1                                                    1                   \n",
       "2                                                    0                   \n",
       "3                                                    0                   \n",
       "4                                                    0                   \n",
       "..                                                 ...                   \n",
       "99                                                   0                   \n",
       "100                                                  0                   \n",
       "101                                                  1                   \n",
       "102                                                  1                   \n",
       "103                                                  0                   \n",
       "\n",
       "     102. I have a hard time taking  \"no\" for an answer  Target  \n",
       "0                                                    1        0  \n",
       "1                                                    0        0  \n",
       "2                                                    1        1  \n",
       "3                                                    1        2  \n",
       "4                                                    0        0  \n",
       "..                                                 ...      ...  \n",
       "99                                                   1        2  \n",
       "100                                                  0        1  \n",
       "101                                                  1        0  \n",
       "102                                                  0        2  \n",
       "103                                                  1        2  \n",
       "\n",
       "[104 rows x 103 columns]"
      ]
     },
     "execution_count": 68,
     "metadata": {},
     "output_type": "execute_result"
    }
   ],
   "source": [
    "## Eliminating physical-related questions in dataset.\n",
    "df = df.drop(df.columns[102:-1], axis=1)\n",
    "\n",
    "## Grouping of the target according to the defined dictionary.\n",
    "df ['Target'] = df ['Target'].map(class_dic)\n",
    "\n",
    "## Assignment of local variables according to the data necessary for the neural network.\n",
    "train_colsbase = df_base.columns [0:-1]\n",
    "labelbase = df_base.columns [-1]\n",
    "X = df [train_colsbase]\n",
    "y = df [labelbase]\n",
    "\n",
    "## The prepared data of the dataset is printed.\n",
    "df"
   ]
  },
  {
   "cell_type": "markdown",
   "id": "1608cc84",
   "metadata": {},
   "source": [
    "## Oversample application"
   ]
  },
  {
   "cell_type": "markdown",
   "id": "78ac308a",
   "metadata": {},
   "source": [
    "An oversample process is applied to level the amount of existing data given by the grouping."
   ]
  },
  {
   "cell_type": "code",
   "execution_count": 69,
   "id": "e3a05cf4",
   "metadata": {},
   "outputs": [
    {
     "data": {
      "text/plain": [
       "0    39\n",
       "1    35\n",
       "2    30\n",
       "Name: Target, dtype: int64"
      ]
     },
     "execution_count": 69,
     "metadata": {},
     "output_type": "execute_result"
    }
   ],
   "source": [
    "## The number of elements present in the grouped target is printed.\n",
    "y.value_counts()"
   ]
  },
  {
   "cell_type": "code",
   "execution_count": 70,
   "id": "fa65a157",
   "metadata": {},
   "outputs": [],
   "source": [
    "## Application of the oversample to the prepared data.\n",
    "X, y = oversample.fit_resample(X, y)"
   ]
  },
  {
   "cell_type": "code",
   "execution_count": 71,
   "id": "3997d567",
   "metadata": {},
   "outputs": [
    {
     "data": {
      "text/plain": [
       "0    39\n",
       "1    39\n",
       "2    39\n",
       "Name: Target, dtype: int64"
      ]
     },
     "execution_count": 71,
     "metadata": {},
     "output_type": "execute_result"
    }
   ],
   "source": [
    "## The results obtained after applying the oversample are printed.\n",
    "y.value_counts()"
   ]
  },
  {
   "cell_type": "markdown",
   "id": "60efdf0a",
   "metadata": {},
   "source": [
    "## Preparation of the parameters of the neural network"
   ]
  },
  {
   "cell_type": "markdown",
   "id": "4149239f",
   "metadata": {},
   "source": [
    "We proceed to define the parameters necessary for the training of the neural network."
   ]
  },
  {
   "cell_type": "code",
   "execution_count": 72,
   "id": "d1c39870",
   "metadata": {},
   "outputs": [],
   "source": [
    "X_train, X_test, y_train, y_test = train_test_split(X, y, test_size=0.33, random_state=seedbase)"
   ]
  },
  {
   "cell_type": "markdown",
   "id": "b2a835d8",
   "metadata": {},
   "source": [
    "## Neural network training"
   ]
  },
  {
   "cell_type": "markdown",
   "id": "aa5364b4",
   "metadata": {},
   "source": [
    "The alpha parameters and the initial learning rate are adjusted to obtain the best performance with the model\n",
    "using cross validation."
   ]
  },
  {
   "cell_type": "code",
   "execution_count": 73,
   "id": "b787f01a",
   "metadata": {},
   "outputs": [
    {
     "data": {
      "text/plain": [
       "([0.16659498207885304,\n",
       "  0.16659498207885304,\n",
       "  0.4763355552829237,\n",
       "  0.4513935101705999,\n",
       "  0.46248242125951106,\n",
       "  0.4691799342728135,\n",
       "  0.4691799342728135,\n",
       "  0.4691799342728135,\n",
       "  0.4691799342728135],\n",
       " [0.006020651927912844,\n",
       "  0.006020651927912844,\n",
       "  0.09918844066715299,\n",
       "  0.08068804784278276,\n",
       "  0.09270871998125078,\n",
       "  0.08309589200633044,\n",
       "  0.08309589200633044,\n",
       "  0.08309589200633044,\n",
       "  0.08309589200633044])"
      ]
     },
     "execution_count": 73,
     "metadata": {},
     "output_type": "execute_result"
    }
   ],
   "source": [
    "## Local variables are defined for the storage of the scores obtained by the training.\n",
    "cv_scores_mean = []\n",
    "cv_scores_std = []\n",
    "\n",
    "## Training and validation of different configurations.\n",
    "for regul_param in regul_param_range:\n",
    "    \n",
    "    ## Increase the max_iter parameter until it converges.\n",
    "    mlp = MLPClassifier(hidden_layer_sizes=(10,), activation='logistic', solver='adam', alpha=regul_param, \n",
    "             learning_rate='constant', learning_rate_init=0.0001, max_iter=100000, random_state=seed)\n",
    "    \n",
    "    scores = cross_val_score(mlp, X, y, cv=5, scoring='f1_macro')\n",
    "    \n",
    "    cv_scores_mean.append(scores.mean())\n",
    "    cv_scores_std.append(scores.std())\n",
    "    \n",
    "## The results obtained during the training are printed.\n",
    "cv_scores_mean, cv_scores_std"
   ]
  },
  {
   "cell_type": "markdown",
   "id": "8cf17c85",
   "metadata": {},
   "source": [
    "We proceed to draw the learning curve graph according to the data obtained by the training."
   ]
  },
  {
   "cell_type": "code",
   "execution_count": 74,
   "id": "e9b7b73a",
   "metadata": {},
   "outputs": [
    {
     "data": {
      "image/png": "[encoded data removed]",
      "text/plain": [
       "<Figure size 432x288 with 1 Axes>"
      ]
     },
     "metadata": {
      "needs_background": "light"
     },
     "output_type": "display_data"
    }
   ],
   "source": [
    "## The average accuracy line is drawn on the test parts.\n",
    "plt.plot(np.log10(regul_param_range), cv_scores_mean, color=\"g\", label=\"Test\")\n",
    "\n",
    "## The standard deviation band is drawn.\n",
    "lower_limit = np.array(cv_scores_mean) - np.array(cv_scores_std)\n",
    "upper_limit = np.array(cv_scores_mean) + np.array(cv_scores_std)\n",
    "plt.fill_between(np.log10(regul_param_range), lower_limit, upper_limit, color=\"#DDDDDD\")\n",
    "\n",
    "## Generate the graph.\n",
    "plt.title(\"Learning curve\")\n",
    "plt.xlabel(\"Alpha 10^{X}\"), plt.ylabel(\"F1\"), plt.legend(loc=\"best\")\n",
    "plt.tight_layout()\n",
    "plt.show()"
   ]
  },
  {
   "cell_type": "markdown",
   "id": "82ae3ed7",
   "metadata": {},
   "source": [
    "The training is performed again keeping the same parameters except for the alpha value that changes to 1."
   ]
  },
  {
   "cell_type": "code",
   "execution_count": 75,
   "id": "0ebc41dd",
   "metadata": {},
   "outputs": [
    {
     "data": {
      "text/plain": [
       "([0.16659498207885304,\n",
       "  0.16659498207885304,\n",
       "  0.16659498207885304,\n",
       "  0.46703181808444966,\n",
       "  0.45220030972352954,\n",
       "  0.4405739461776614,\n",
       "  0.4763355552829237,\n",
       "  0.16659498207885304,\n",
       "  0.16659498207885304],\n",
       " [0.006020651927912844,\n",
       "  0.006020651927912844,\n",
       "  0.006020651927912844,\n",
       "  0.0700006268704352,\n",
       "  0.09521251410308869,\n",
       "  0.0887293445552907,\n",
       "  0.09918844066715299,\n",
       "  0.006020651927912844,\n",
       "  0.006020651927912844])"
      ]
     },
     "execution_count": 75,
     "metadata": {},
     "output_type": "execute_result"
    }
   ],
   "source": [
    "## Local variables are defined for the storage of the scores obtained by the training.\n",
    "cv_scores_mean = []\n",
    "cv_scores_std = []\n",
    "\n",
    "## Training and validation of different configurations.\n",
    "for regul_param in regul_param_range:\n",
    "    \n",
    "    ## Increase the max_iter parameter until it converges.\n",
    "    mlp = MLPClassifier(hidden_layer_sizes=(10,), activation='logistic', solver='adam', alpha=1, \n",
    "             learning_rate='constant', learning_rate_init=regul_param, max_iter=100000, random_state=seed)\n",
    "    \n",
    "    scores = cross_val_score(mlp, X, y, cv=5, scoring='f1_macro')\n",
    "    \n",
    "    cv_scores_mean.append(scores.mean())\n",
    "    cv_scores_std.append(scores.std())\n",
    "\n",
    "cv_scores_mean, cv_scores_std"
   ]
  },
  {
   "cell_type": "markdown",
   "id": "82f33a5b",
   "metadata": {},
   "source": [
    "We proceed to draw the learning curve graph according to the data obtained by the training."
   ]
  },
  {
   "cell_type": "code",
   "execution_count": 76,
   "id": "38dfb193",
   "metadata": {},
   "outputs": [
    {
     "data": {
      "image/png": "[encoded data removed]",
      "text/plain": [
       "<Figure size 432x288 with 1 Axes>"
      ]
     },
     "metadata": {
      "needs_background": "light"
     },
     "output_type": "display_data"
    }
   ],
   "source": [
    "## The average accuracy line is drawn on the test parts.\n",
    "plt.plot(np.log10(regul_param_range), cv_scores_mean, color=\"g\", label=\"Test\")\n",
    "\n",
    "## The standard deviation band is drawn.\n",
    "lower_limit = np.array(cv_scores_mean) - np.array(cv_scores_std)\n",
    "upper_limit = np.array(cv_scores_mean) + np.array(cv_scores_std)\n",
    "plt.fill_between(np.log10(regul_param_range), lower_limit, upper_limit, color=\"#DDDDDD\")\n",
    "\n",
    "## Generate the graph.\n",
    "plt.title(\"Learning curve\")\n",
    "plt.xlabel(\"Learning Rate 10^{-X}\"), plt.ylabel(\"F1\"), plt.legend(loc=\"best\")\n",
    "plt.tight_layout()\n",
    "plt.show()"
   ]
  },
  {
   "cell_type": "markdown",
   "id": "1f0cafee",
   "metadata": {},
   "source": [
    "## Generation of the neural network model"
   ]
  },
  {
   "cell_type": "markdown",
   "id": "50c06f0e",
   "metadata": {},
   "source": [
    "The parameters of the final model are modified according to the data obtained in the training of the neural network."
   ]
  },
  {
   "cell_type": "code",
   "execution_count": 77,
   "id": "72f986aa",
   "metadata": {},
   "outputs": [
    {
     "data": {
      "text/html": [
       "<style>#sk-container-id-1 {color: black;background-color: white;}#sk-container-id-1 pre{padding: 0;}#sk-container-id-1 div.sk-toggleable {background-color: white;}#sk-container-id-1 label.sk-toggleable__label {cursor: pointer;display: block;width: 100%;margin-bottom: 0;padding: 0.3em;box-sizing: border-box;text-align: center;}#sk-container-id-1 label.sk-toggleable__label-arrow:before {content: \"▸\";float: left;margin-right: 0.25em;color: #696969;}#sk-container-id-1 label.sk-toggleable__label-arrow:hover:before {color: black;}#sk-container-id-1 div.sk-estimator:hover label.sk-toggleable__label-arrow:before {color: black;}#sk-container-id-1 div.sk-toggleable__content {max-height: 0;max-width: 0;overflow: hidden;text-align: left;background-color: #f0f8ff;}#sk-container-id-1 div.sk-toggleable__content pre {margin: 0.2em;color: black;border-radius: 0.25em;background-color: #f0f8ff;}#sk-container-id-1 input.sk-toggleable__control:checked~div.sk-toggleable__content {max-height: 200px;max-width: 100%;overflow: auto;}#sk-container-id-1 input.sk-toggleable__control:checked~label.sk-toggleable__label-arrow:before {content: \"▾\";}#sk-container-id-1 div.sk-estimator input.sk-toggleable__control:checked~label.sk-toggleable__label {background-color: #d4ebff;}#sk-container-id-1 div.sk-label input.sk-toggleable__control:checked~label.sk-toggleable__label {background-color: #d4ebff;}#sk-container-id-1 input.sk-hidden--visually {border: 0;clip: rect(1px 1px 1px 1px);clip: rect(1px, 1px, 1px, 1px);height: 1px;margin: -1px;overflow: hidden;padding: 0;position: absolute;width: 1px;}#sk-container-id-1 div.sk-estimator {font-family: monospace;background-color: #f0f8ff;border: 1px dotted black;border-radius: 0.25em;box-sizing: border-box;margin-bottom: 0.5em;}#sk-container-id-1 div.sk-estimator:hover {background-color: #d4ebff;}#sk-container-id-1 div.sk-parallel-item::after {content: \"\";width: 100%;border-bottom: 1px solid gray;flex-grow: 1;}#sk-container-id-1 div.sk-label:hover label.sk-toggleable__label {background-color: #d4ebff;}#sk-container-id-1 div.sk-serial::before {content: \"\";position: absolute;border-left: 1px solid gray;box-sizing: border-box;top: 0;bottom: 0;left: 50%;z-index: 0;}#sk-container-id-1 div.sk-serial {display: flex;flex-direction: column;align-items: center;background-color: white;padding-right: 0.2em;padding-left: 0.2em;position: relative;}#sk-container-id-1 div.sk-item {position: relative;z-index: 1;}#sk-container-id-1 div.sk-parallel {display: flex;align-items: stretch;justify-content: center;background-color: white;position: relative;}#sk-container-id-1 div.sk-item::before, #sk-container-id-1 div.sk-parallel-item::before {content: \"\";position: absolute;border-left: 1px solid gray;box-sizing: border-box;top: 0;bottom: 0;left: 50%;z-index: -1;}#sk-container-id-1 div.sk-parallel-item {display: flex;flex-direction: column;z-index: 1;position: relative;background-color: white;}#sk-container-id-1 div.sk-parallel-item:first-child::after {align-self: flex-end;width: 50%;}#sk-container-id-1 div.sk-parallel-item:last-child::after {align-self: flex-start;width: 50%;}#sk-container-id-1 div.sk-parallel-item:only-child::after {width: 0;}#sk-container-id-1 div.sk-dashed-wrapped {border: 1px dashed gray;margin: 0 0.4em 0.5em 0.4em;box-sizing: border-box;padding-bottom: 0.4em;background-color: white;}#sk-container-id-1 div.sk-label label {font-family: monospace;font-weight: bold;display: inline-block;line-height: 1.2em;}#sk-container-id-1 div.sk-label-container {text-align: center;}#sk-container-id-1 div.sk-container {/* jupyter's `normalize.less` sets `[hidden] { display: none; }` but bootstrap.min.css set `[hidden] { display: none !important; }` so we also need the `!important` here to be able to override the default hidden behavior on the sphinx rendered scikit-learn.org. See: https://github.com/scikit-learn/scikit-learn/issues/21755 */display: inline-block !important;position: relative;}#sk-container-id-1 div.sk-text-repr-fallback {display: none;}</style><div id=\"sk-container-id-1\" class=\"sk-top-container\"><div class=\"sk-text-repr-fallback\"><pre>MLPClassifier(activation=&#x27;logistic&#x27;, alpha=1, hidden_layer_sizes=(10,),\n",
       "              learning_rate_init=0.0001, max_iter=100000, random_state=77)</pre><b>In a Jupyter environment, please rerun this cell to show the HTML representation or trust the notebook. <br />On GitHub, the HTML representation is unable to render, please try loading this page with nbviewer.org.</b></div><div class=\"sk-container\" hidden><div class=\"sk-item\"><div class=\"sk-estimator sk-toggleable\"><input class=\"sk-toggleable__control sk-hidden--visually\" id=\"sk-estimator-id-1\" type=\"checkbox\" checked><label for=\"sk-estimator-id-1\" class=\"sk-toggleable__label sk-toggleable__label-arrow\">MLPClassifier</label><div class=\"sk-toggleable__content\"><pre>MLPClassifier(activation=&#x27;logistic&#x27;, alpha=1, hidden_layer_sizes=(10,),\n",
       "              learning_rate_init=0.0001, max_iter=100000, random_state=77)</pre></div></div></div></div></div>"
      ],
      "text/plain": [
       "MLPClassifier(activation='logistic', alpha=1, hidden_layer_sizes=(10,),\n",
       "              learning_rate_init=0.0001, max_iter=100000, random_state=77)"
      ]
     },
     "execution_count": 77,
     "metadata": {},
     "output_type": "execute_result"
    }
   ],
   "source": [
    "## The value of the alpha parameter is kept at 1 as well as the value of the seed of random_state at 77.\n",
    "mlp = MLPClassifier(hidden_layer_sizes=(10,), activation='logistic', solver='adam', alpha=1, \n",
    "             learning_rate='constant', learning_rate_init=0.0001, max_iter=100000, random_state=77)\n",
    "\n",
    "## We print the data of the final generated model.\n",
    "mlp.fit(X_train, y_train)"
   ]
  },
  {
   "cell_type": "markdown",
   "id": "0b79fff7",
   "metadata": {},
   "source": [
    "We safeguard the final generated model"
   ]
  },
  {
   "cell_type": "code",
   "execution_count": 78,
   "id": "85a725c8",
   "metadata": {},
   "outputs": [
    {
     "data": {
      "text/plain": [
       "['model_depression.pkl']"
      ]
     },
     "execution_count": 78,
     "metadata": {},
     "output_type": "execute_result"
    }
   ],
   "source": [
    "joblib.dump(mlp,\"model_depression.pkl\")"
   ]
  }
 ],
 "metadata": {
  "kernelspec": {
   "display_name": "Python 3 (ipykernel)",
   "language": "python",
   "name": "python3"
  },
  "language_info": {
   "codemirror_mode": {
    "name": "ipython",
    "version": 3
   },
   "file_extension": ".py",
   "mimetype": "text/x-python",
   "name": "python",
   "nbconvert_exporter": "python",
   "pygments_lexer": "ipython3",
   "version": "3.10.6"
  }
 },
 "nbformat": 4,
 "nbformat_minor": 5
}
