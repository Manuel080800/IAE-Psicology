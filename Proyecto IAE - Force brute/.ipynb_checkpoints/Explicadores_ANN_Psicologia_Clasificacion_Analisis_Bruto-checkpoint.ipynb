{
 "cells": [
  {
   "cell_type": "markdown",
   "id": "468ebe9d",
   "metadata": {},
   "source": [
    "# Explicando ANN (Clasificación) para identificar depresión"
   ]
  },
  {
   "cell_type": "markdown",
   "id": "655cf09b",
   "metadata": {},
   "source": [
    "## Preparación de los datos"
   ]
  },
  {
   "cell_type": "markdown",
   "id": "5d27c694",
   "metadata": {},
   "source": [
    "Lectura de los datos de acuerdo a sus datasets"
   ]
  },
  {
   "cell_type": "code",
   "execution_count": 51,
   "id": "e890fced",
   "metadata": {},
   "outputs": [],
   "source": [
    "import pandas as pd\n",
    "from sklearn.model_selection import train_test_split\n",
    "\n",
    "df = pd.read_csv(\"Dataset_MO_ENG.csv\")\n",
    "dm = pd.read_csv(\"Dataset_QS_METRICS.csv\")"
   ]
  },
  {
   "cell_type": "markdown",
   "id": "c0b3f440",
   "metadata": {},
   "source": [
    "Determinación de las preguntas con mayor metrica especifica obtenidas por fuerza bruta"
   ]
  },
  {
   "cell_type": "code",
   "execution_count": 52,
   "id": "0613b975",
   "metadata": {},
   "outputs": [],
   "source": [
    "dm = dm.sort_values(by = \"Recall_2\", ascending = False)"
   ]
  },
  {
   "cell_type": "markdown",
   "id": "846a6467",
   "metadata": {},
   "source": [
    "Ordenación de los datos de acuerdo a la metrica de importancia"
   ]
  },
  {
   "cell_type": "code",
   "execution_count": 53,
   "id": "4d4c4e60",
   "metadata": {},
   "outputs": [],
   "source": [
    "question = dm.iloc[:, 0].to_numpy().tolist()\n",
    "accurracy = dm.iloc[:, 1].to_numpy().tolist()\n",
    "\n",
    "presicion_0 = dm.iloc[:, 2].to_numpy().tolist()\n",
    "recall_0 = dm.iloc[:, 3].to_numpy().tolist()\n",
    "f1_score_0 = dm.iloc[:, 4].to_numpy().tolist()\n",
    "\n",
    "presicion_1 = dm.iloc[:, 6].to_numpy().tolist()\n",
    "recall_1 = dm.iloc[:, 7].to_numpy().tolist()\n",
    "f1_score_1 = dm.iloc[:, 8].to_numpy().tolist()\n",
    "\n",
    "presicion_2 = dm.iloc[:, 10].to_numpy().tolist()\n",
    "recall_2 = dm.iloc[:, 11].to_numpy().tolist()\n",
    "f1_score_2 = dm.iloc[:, 12].to_numpy().tolist()"
   ]
  },
  {
   "cell_type": "markdown",
   "id": "3d3517d4",
   "metadata": {},
   "source": [
    "Determinación de las preguntas con mayor metrica"
   ]
  },
  {
   "cell_type": "code",
   "execution_count": 54,
   "id": "99c8b005",
   "metadata": {},
   "outputs": [],
   "source": [
    "#questionSelect = []\n",
    "#\n",
    "#umbral = 60\n",
    "#\n",
    "#index = -1\n",
    "#for metric in accurracy:\n",
    "#    index += 1\n",
    "#    if metric >= umbral:\n",
    "#        questionSelect.append(question[index])\n",
    "#        # if len(questionSelect) == 20:\n",
    "#        #    break\n",
    "#    \n",
    "#questionSelect.sort()\n",
    "#    \n",
    "#print(\"Preguntas con mayor recall: \" + str(questionSelect))\n",
    "#print(\"Total de preguntas:\" + str(len(questionSelect)))"
   ]
  },
  {
   "cell_type": "markdown",
   "id": "052d853a",
   "metadata": {},
   "source": [
    "Eliminación de las preguntas fisicas - relativas"
   ]
  },
  {
   "cell_type": "code",
   "execution_count": 55,
   "id": "c582ee6c",
   "metadata": {},
   "outputs": [],
   "source": [
    "df = df.drop(df.columns[102:-1], axis=1)"
   ]
  },
  {
   "cell_type": "markdown",
   "id": "cc277b2a",
   "metadata": {},
   "source": [
    "Eliminación de las preguntas con mayor metrica"
   ]
  },
  {
   "cell_type": "code",
   "execution_count": 56,
   "id": "156c7e8b",
   "metadata": {},
   "outputs": [],
   "source": [
    "## list of contradictory questions\n",
    "#l_contr = [3,4,5,14,21,24,25,26,27,29,30,32,48,49,51,54,55,58,59,60,62,63,66,68,\n",
    "#    70,75,78,83,85,86,87,89,90,91,94,95,96,98,100,101]\n",
    "\n",
    "## list of contradictory questions\n",
    "l_contr = [3, 62, 64]\n",
    "l_contr.sort()\n",
    "\n",
    "i=0\n",
    "for x in l_contr:\n",
    "    df.drop(df.columns[x-(i+1)],axis=1, inplace=True)\n",
    "    i = i+1\n",
    "    \n",
    "questionSelect = l_contr\n",
    "\n",
    "#i = 0\n",
    "#for x in questionSelect:\n",
    "#    df.drop(df.columns[x-(i+1)],axis=1, inplace=True)\n",
    "#    i = i+1"
   ]
  },
  {
   "cell_type": "markdown",
   "id": "da1bab02",
   "metadata": {},
   "source": [
    "Agrupación de los targets en las nuevas clases Low, Medium y High"
   ]
  },
  {
   "cell_type": "code",
   "execution_count": 57,
   "id": "6fe31280",
   "metadata": {},
   "outputs": [],
   "source": [
    "dic = { 1: 0 , 2: 0, 3:1, 4:2, 5:2} \n",
    "df['Target'] = df['Target'].map(dic)\n",
    "    \n",
    "train_cols = df.columns[0:-1]\n",
    "label = df.columns[-1]\n",
    "X = df[train_cols]\n",
    "y = df[label]\n",
    "target_names=[\"Low\",\"Medium\",\"High\"]"
   ]
  },
  {
   "cell_type": "markdown",
   "id": "62200c8b",
   "metadata": {},
   "source": [
    "## Equilibración de los datos"
   ]
  },
  {
   "cell_type": "markdown",
   "id": "157ae068",
   "metadata": {},
   "source": [
    "Uso del oversampling con SMOTE"
   ]
  },
  {
   "cell_type": "code",
   "execution_count": 58,
   "id": "1a9d5d4e",
   "metadata": {},
   "outputs": [],
   "source": [
    "from imblearn.over_sampling import SMOTE\n",
    "random_state = 13\n",
    "oversample = SMOTE(random_state=random_state)\n",
    "X, y = oversample.fit_resample(X, y)"
   ]
  },
  {
   "cell_type": "markdown",
   "id": "98c5ef74",
   "metadata": {},
   "source": [
    "## Preparación del entrenamiento de la red neuronal"
   ]
  },
  {
   "cell_type": "markdown",
   "id": "4e966c85",
   "metadata": {},
   "source": [
    "Asignación de los datos de entrenamiento"
   ]
  },
  {
   "cell_type": "code",
   "execution_count": 59,
   "id": "35e83fd9",
   "metadata": {},
   "outputs": [],
   "source": [
    "seed = 1\n",
    "X_train, X_test, y_train, y_test = train_test_split(X, y, test_size=0.33, random_state=seed)"
   ]
  },
  {
   "cell_type": "markdown",
   "id": "b6cba8a7",
   "metadata": {},
   "source": [
    "## Entrenamiento de la red neuronal"
   ]
  },
  {
   "cell_type": "markdown",
   "id": "27d6b776",
   "metadata": {},
   "source": [
    "Entrenamiento por medio de diferentes conbinaciones por medio de la validación cruzada con alpha regular"
   ]
  },
  {
   "cell_type": "code",
   "execution_count": null,
   "id": "7c336f48",
   "metadata": {},
   "outputs": [],
   "source": [
    "from sklearn.neural_network import MLPClassifier\n",
    "from sklearn.model_selection import cross_val_score\n",
    "from sklearn.metrics import mean_squared_error\n",
    "import numpy as np\n",
    "\n",
    "cv_scores_mean=[]\n",
    "cv_scores_std=[]\n",
    "\n",
    "regul_param_range = 10.0 ** -np.arange(-2, 7)\n",
    "for regul_param in regul_param_range:\n",
    "    mlp=MLPClassifier(hidden_layer_sizes=(10,), activation='logistic', solver='adam', alpha=regul_param, \n",
    "             learning_rate='constant', learning_rate_init=0.0001, max_iter=100000, random_state=seed)\n",
    "    \n",
    "    scores = cross_val_score(mlp, X, y, cv=5, scoring='f1_macro')\n",
    "    \n",
    "    cv_scores_mean.append(scores.mean())\n",
    "    cv_scores_std.append(scores.std())\n",
    "\n",
    "cv_scores_mean, cv_scores_std"
   ]
  },
  {
   "cell_type": "markdown",
   "id": "3fb17794",
   "metadata": {},
   "source": [
    "Generación de la grafica de curva de aprendizaje con alpha regular"
   ]
  },
  {
   "cell_type": "code",
   "execution_count": null,
   "id": "7fbdf4cf",
   "metadata": {},
   "outputs": [],
   "source": [
    "import matplotlib.pyplot as plt\n",
    "\n",
    "plt.plot(np.log10(regul_param_range), cv_scores_mean, color=\"g\", label=\"Test\")\n",
    "\n",
    "lower_limit = np.array(cv_scores_mean) - np.array(cv_scores_std)\n",
    "upper_limit = np.array(cv_scores_mean) + np.array(cv_scores_std)\n",
    "plt.fill_between(np.log10(regul_param_range), lower_limit, upper_limit, color=\"#DDDDDD\")\n",
    "\n",
    "plt.title(\"Curva de aprendizaje\")\n",
    "plt.xlabel(\"Alpha 10^{X}\"), plt.ylabel(\"F1\"), plt.legend(loc=\"best\")\n",
    "plt.tight_layout()\n",
    "plt.show()"
   ]
  },
  {
   "cell_type": "markdown",
   "id": "f341f78b",
   "metadata": {},
   "source": [
    "Entrenamiento por medio de diferentes conbinaciones por medio de la validación cruzada con alpha en 1"
   ]
  },
  {
   "cell_type": "code",
   "execution_count": null,
   "id": "4f0893ed",
   "metadata": {},
   "outputs": [],
   "source": [
    "from sklearn.neural_network import MLPClassifier\n",
    "from sklearn.model_selection import cross_val_score\n",
    "from sklearn.metrics import mean_squared_error\n",
    "import numpy as np\n",
    "\n",
    "cv_scores_mean=[]\n",
    "cv_scores_std=[]\n",
    "\n",
    "regul_param_range = 10.0 ** -np.arange(0, 7)\n",
    "for regul_param in regul_param_range:\n",
    "    mlp=MLPClassifier(hidden_layer_sizes=(10,), activation='logistic', solver='adam', alpha=1, \n",
    "             learning_rate='constant', learning_rate_init=regul_param, max_iter=100000, random_state=seed)\n",
    "    \n",
    "    scores = cross_val_score(mlp, X, y, cv=5, scoring='f1_macro')\n",
    "    \n",
    "    cv_scores_mean.append(scores.mean())\n",
    "    cv_scores_std.append(scores.std())\n",
    "\n",
    "cv_scores_mean, cv_scores_std"
   ]
  },
  {
   "cell_type": "markdown",
   "id": "7c06e005",
   "metadata": {},
   "source": [
    "Generación de la grafica de curva de aprendizaje con alpha 1"
   ]
  },
  {
   "cell_type": "code",
   "execution_count": null,
   "id": "3d015ea9",
   "metadata": {},
   "outputs": [],
   "source": [
    "import matplotlib.pyplot as plt\n",
    "\n",
    "plt.plot(np.log10(regul_param_range), cv_scores_mean, color=\"g\", label=\"Test\")\n",
    "\n",
    "lower_limit = np.array(cv_scores_mean) - np.array(cv_scores_std)\n",
    "upper_limit = np.array(cv_scores_mean) + np.array(cv_scores_std)\n",
    "plt.fill_between(np.log10(regul_param_range), lower_limit, upper_limit, color=\"#DDDDDD\")\n",
    "\n",
    "plt.title(\"Curva de aprendizaje\")\n",
    "plt.xlabel(\"Learning Rate 10^{-X}\"), plt.ylabel(\"F1\"), plt.legend(loc=\"best\")\n",
    "plt.tight_layout()\n",
    "plt.show()"
   ]
  },
  {
   "cell_type": "markdown",
   "id": "7a94e2ad",
   "metadata": {},
   "source": [
    "## Generación del modelo final de la red neuronal"
   ]
  },
  {
   "cell_type": "markdown",
   "id": "2776c866",
   "metadata": {},
   "source": [
    "Se genera el modelo final de la red neuronal a partir de los datos anteriormente entrenados"
   ]
  },
  {
   "cell_type": "code",
   "execution_count": null,
   "id": "591edcb1",
   "metadata": {},
   "outputs": [],
   "source": [
    "mlp=MLPClassifier(hidden_layer_sizes=(10,), activation='logistic', solver='adam', alpha=0.001, \n",
    "             learning_rate='constant', learning_rate_init=0.1, max_iter=100000, random_state=42)\n",
    "\n",
    "mlp.fit(X_train, y_train)"
   ]
  },
  {
   "cell_type": "markdown",
   "id": "2a952a11",
   "metadata": {},
   "source": [
    "Se guarda el modelo final de la red neuronal"
   ]
  },
  {
   "cell_type": "code",
   "execution_count": null,
   "id": "dbb24aa6",
   "metadata": {},
   "outputs": [],
   "source": [
    "import joblib\n",
    "\n",
    "joblib.dump(mlp,\"modelo_depresion.pkl\")"
   ]
  },
  {
   "cell_type": "markdown",
   "id": "e8543e97",
   "metadata": {},
   "source": [
    "## Preparación de la explicabilidad del red neuronal"
   ]
  },
  {
   "cell_type": "markdown",
   "id": "303527b8",
   "metadata": {},
   "source": [
    "Uso del counterfactuals para la explicabilidad"
   ]
  },
  {
   "cell_type": "code",
   "execution_count": null,
   "id": "353e2ddb",
   "metadata": {},
   "outputs": [],
   "source": [
    "import dice_ml\n",
    "d = dice_ml.Data(dataframe=df, continuous_features=[], outcome_name='Target')\n",
    "m = dice_ml.Model(model=mlp, backend=\"sklearn\")\n",
    "exp = dice_ml.Dice(d, m, method=\"random\")\n",
    "\n",
    "e1 = exp.generate_counterfactuals(query_instances=X_test[0:2], total_CFs=2, desired_class=2)\n",
    "e1.visualize_as_dataframe(show_only_changes=True)"
   ]
  },
  {
   "cell_type": "markdown",
   "id": "b6c6bc67",
   "metadata": {},
   "source": [
    "## Explicación de la red neuronal"
   ]
  },
  {
   "cell_type": "markdown",
   "id": "4474d00e",
   "metadata": {},
   "source": [
    "Preparación de los datos para la explicación de la red neuronal"
   ]
  },
  {
   "cell_type": "code",
   "execution_count": null,
   "id": "e19f96c8",
   "metadata": {},
   "outputs": [],
   "source": [
    "from explainerdashboard import ClassifierExplainer, ExplainerDashboard\n",
    "\n",
    "X_test.columns = X.columns.str.replace(r\".\", \"\")\n",
    "explainer = ClassifierExplainer(mlp, X_test, y_test)\n",
    "#ExplainerDashboard(explainer).run(port=8052)"
   ]
  },
  {
   "cell_type": "markdown",
   "id": "25a7c22e",
   "metadata": {},
   "source": [
    "Explicación del modelo por medio de la matrix de confusión"
   ]
  },
  {
   "cell_type": "code",
   "execution_count": null,
   "id": "e747333a",
   "metadata": {},
   "outputs": [],
   "source": [
    "from sklearn.metrics import precision_recall_fscore_support\n",
    "from sklearn.metrics import classification_report, confusion_matrix, accuracy_score\n",
    "\n",
    "y_pred = mlp.predict(X_test)\n",
    "\n",
    "print('Matrix de confusión:')\n",
    "print(confusion_matrix(y_test,y_pred))\n",
    "print()\n",
    "print('Classification accuracy =',accuracy_score(y_test,y_pred)*100,'%\\n')\n",
    "print(classification_report(y_test,y_pred))"
   ]
  },
  {
   "cell_type": "markdown",
   "id": "2f095751",
   "metadata": {},
   "source": [
    "# Almacenamiento de los datos"
   ]
  },
  {
   "cell_type": "markdown",
   "id": "55cb4e54",
   "metadata": {},
   "source": [
    "Se recuperan los valores de importancia y se almacenan para escritura"
   ]
  },
  {
   "cell_type": "code",
   "execution_count": null,
   "id": "3670f8d0",
   "metadata": {},
   "outputs": [],
   "source": [
    "from sklearn import metrics\n",
    "clf_rep = metrics.precision_recall_fscore_support(y_test,y_pred)"
   ]
  },
  {
   "cell_type": "markdown",
   "id": "4816ad42",
   "metadata": {},
   "source": [
    "Se prepara los datos recuperados para su escritura"
   ]
  },
  {
   "cell_type": "code",
   "execution_count": null,
   "id": "a0e0b6cd",
   "metadata": {},
   "outputs": [],
   "source": [
    "accuracy = accuracy_score(y_test,y_pred)*100\n",
    "precision = [clf_rep[0][0], clf_rep[0][1], clf_rep[0][2]]\n",
    "recall = [clf_rep[1][0], clf_rep[1][1], clf_rep[1][2]]\n",
    "f1_score = [clf_rep[2][0], clf_rep[2][1], clf_rep[2][2]]\n",
    "support = [clf_rep[3][0], clf_rep[3][1], clf_rep[3][2]]\n",
    "\n",
    "metrics = pd.DataFrame([[questionSelect,accuracy,precision[0],recall[0],f1_score[0],support[0],\n",
    "                                              precision[1],recall[1],f1_score[1],support[1],\n",
    "                                              precision[2],recall[2],f1_score[2],support[2]]],\n",
    "                        columns = ['Question','Acurracy global','Precision_0','Recall_0','F1_score_0', 'Support_0',\n",
    "                                                                'Precision_1','Recall_1','F1_score_1', 'Support_1',\n",
    "                                                                'Precision_2','Recall_2','F1_score_2', 'Support_2'])\n",
    "\n",
    "metrics"
   ]
  },
  {
   "cell_type": "markdown",
   "id": "cce618e6",
   "metadata": {},
   "source": [
    "Se escriben los datos preparados en el dataset correspondiente"
   ]
  },
  {
   "cell_type": "code",
   "execution_count": null,
   "id": "0f29cbfa",
   "metadata": {},
   "outputs": [],
   "source": [
    "metrics.to_csv(r\"Dataset_QS_TEST.csv\", mode = 'a', header = False, index = False)"
   ]
  },
  {
   "cell_type": "code",
   "execution_count": null,
   "id": "ffb1be9f",
   "metadata": {},
   "outputs": [],
   "source": []
  }
 ],
 "metadata": {
  "kernelspec": {
   "display_name": "Python 3 (ipykernel)",
   "language": "python",
   "name": "python3"
  },
  "language_info": {
   "codemirror_mode": {
    "name": "ipython",
    "version": 3
   },
   "file_extension": ".py",
   "mimetype": "text/x-python",
   "name": "python",
   "nbconvert_exporter": "python",
   "pygments_lexer": "ipython3",
   "version": "3.10.4"
  }
 },
 "nbformat": 4,
 "nbformat_minor": 5
}
