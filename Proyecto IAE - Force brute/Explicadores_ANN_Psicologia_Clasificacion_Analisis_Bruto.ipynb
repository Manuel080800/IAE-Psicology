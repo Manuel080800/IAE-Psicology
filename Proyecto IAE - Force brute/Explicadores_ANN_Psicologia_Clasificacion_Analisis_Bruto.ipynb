{
 "cells": [
  {
   "cell_type": "markdown",
   "id": "8cfe7a9e",
   "metadata": {},
   "source": [
    "# Explicando ANN (Clasificación) para identificar depresión"
   ]
  },
  {
   "cell_type": "markdown",
   "id": "9bf44905",
   "metadata": {},
   "source": [
    "## Preparación de los datos"
   ]
  },
  {
   "cell_type": "markdown",
   "id": "094f1b56",
   "metadata": {},
   "source": [
    "Lectura de los datos de acuerdo a sus datasets"
   ]
  },
  {
   "cell_type": "code",
   "execution_count": 121,
   "id": "7fc38144",
   "metadata": {},
   "outputs": [],
   "source": [
    "import pandas as pd\n",
    "from sklearn.model_selection import train_test_split\n",
    "\n",
    "df = pd.read_csv(\"Dataset_MO_ENG.csv\")\n",
    "dm = pd.read_csv(\"Dataset_QS_METRICS.csv\")"
   ]
  },
  {
   "cell_type": "markdown",
   "id": "b7080b44",
   "metadata": {},
   "source": [
    "Determinación de las preguntas con mayor metrica especifica obtenidas por fuerza bruta"
   ]
  },
  {
   "cell_type": "code",
   "execution_count": 122,
   "id": "8d1dd5bd",
   "metadata": {},
   "outputs": [],
   "source": [
    "dm = dm.sort_values(by = \"Recall_2\", ascending = False)"
   ]
  },
  {
   "cell_type": "markdown",
   "id": "2eef6553",
   "metadata": {},
   "source": [
    "Ordenación de los datos de acuerdo a la metrica de importancia"
   ]
  },
  {
   "cell_type": "code",
   "execution_count": 123,
   "id": "79cece4a",
   "metadata": {},
   "outputs": [],
   "source": [
    "question = dm.iloc[:, 0].to_numpy().tolist()\n",
    "accurracy = dm.iloc[:, 1].to_numpy().tolist()\n",
    "\n",
    "presicion_0 = dm.iloc[:, 2].to_numpy().tolist()\n",
    "recall_0 = dm.iloc[:, 3].to_numpy().tolist()\n",
    "f1_score_0 = dm.iloc[:, 4].to_numpy().tolist()\n",
    "\n",
    "presicion_1 = dm.iloc[:, 6].to_numpy().tolist()\n",
    "recall_1 = dm.iloc[:, 7].to_numpy().tolist()\n",
    "f1_score_1 = dm.iloc[:, 8].to_numpy().tolist()\n",
    "\n",
    "presicion_2 = dm.iloc[:, 10].to_numpy().tolist()\n",
    "recall_2 = dm.iloc[:, 11].to_numpy().tolist()\n",
    "f1_score_2 = dm.iloc[:, 12].to_numpy().tolist()"
   ]
  },
  {
   "cell_type": "markdown",
   "id": "0339e5f2",
   "metadata": {},
   "source": [
    "Determinación de las preguntas con mayor metrica"
   ]
  },
  {
   "cell_type": "code",
   "execution_count": 124,
   "id": "89a63e3c",
   "metadata": {},
   "outputs": [],
   "source": [
    "#questionSelect = []\n",
    "#\n",
    "#umbral = 60\n",
    "#\n",
    "#index = -1\n",
    "#for metric in accurracy:\n",
    "#    index += 1\n",
    "#    if metric >= umbral:\n",
    "#        questionSelect.append(question[index])\n",
    "#        # if len(questionSelect) == 20:\n",
    "#        #    break\n",
    "#    \n",
    "#questionSelect.sort()\n",
    "#    \n",
    "#print(\"Preguntas con mayor recall: \" + str(questionSelect))\n",
    "#print(\"Total de preguntas:\" + str(len(questionSelect)))"
   ]
  },
  {
   "cell_type": "markdown",
   "id": "ea9120ef",
   "metadata": {},
   "source": [
    "Eliminación de las preguntas fisicas - relativas"
   ]
  },
  {
   "cell_type": "code",
   "execution_count": 125,
   "id": "33f06528",
   "metadata": {},
   "outputs": [],
   "source": [
    "df = df.drop(df.columns[102:-1], axis=1)"
   ]
  },
  {
   "cell_type": "markdown",
   "id": "f4f43949",
   "metadata": {},
   "source": [
    "Eliminación de las preguntas con mayor metrica"
   ]
  },
  {
   "cell_type": "code",
   "execution_count": 126,
   "id": "3ec5656f",
   "metadata": {},
   "outputs": [],
   "source": [
    "## list of contradictory questions\n",
    "#l_contr = [3,4,5,14,21,24,25,26,27,29,30,32,48,49,51,54,55,58,59,60,62,63,66,68,\n",
    "#    70,75,78,83,85,86,87,89,90,91,94,95,96,98,100,101]\n",
    "\n",
    "## list of contradictory questions\n",
    "l_contr = [4, 6, 13, 14, 25, 26, 27, 28, 31, 33, 34, 36, 38, 39, 41, 42, 45, 46, 49, 50, 51, 52, 54, 55,\n",
    "          58, 60, 61, 64, 65, 66, 68, 69, 72, 73, 78, 84, 91, 92, 94, 96, 97, 101]\n",
    "l_contr.sort()\n",
    "\n",
    "i=0\n",
    "for x in l_contr:\n",
    "    df.drop(df.columns[x-(i+1)],axis=1, inplace=True)\n",
    "    i = i+1\n",
    "    \n",
    "questionSelect = l_contr\n",
    "\n",
    "#i = 0\n",
    "#for x in questionSelect:\n",
    "#    df.drop(df.columns[x-(i+1)],axis=1, inplace=True)\n",
    "#    i = i+1"
   ]
  },
  {
   "cell_type": "markdown",
   "id": "b5665357",
   "metadata": {},
   "source": [
    "Agrupación de los targets en las nuevas clases Low, Medium y High"
   ]
  },
  {
   "cell_type": "code",
   "execution_count": 127,
   "id": "b0ff10c5",
   "metadata": {},
   "outputs": [],
   "source": [
    "dic = { 1: 0 , 2: 0, 3:1, 4:2, 5:2} \n",
    "df['Target'] = df['Target'].map(dic)\n",
    "    \n",
    "train_cols = df.columns[0:-1]\n",
    "label = df.columns[-1]\n",
    "X = df[train_cols]\n",
    "y = df[label]\n",
    "target_names=[\"Low\",\"Medium\",\"High\"]"
   ]
  },
  {
   "cell_type": "markdown",
   "id": "e6746d74",
   "metadata": {},
   "source": [
    "## Equilibración de los datos"
   ]
  },
  {
   "cell_type": "markdown",
   "id": "4ea3cc07",
   "metadata": {},
   "source": [
    "Uso del oversampling con SMOTE"
   ]
  },
  {
   "cell_type": "code",
   "execution_count": 128,
   "id": "57361e27",
   "metadata": {},
   "outputs": [],
   "source": [
    "from imblearn.over_sampling import SMOTE\n",
    "random_state = 13\n",
    "oversample = SMOTE(random_state=random_state)\n",
    "X, y = oversample.fit_resample(X, y)"
   ]
  },
  {
   "cell_type": "markdown",
   "id": "7637c1a3",
   "metadata": {},
   "source": [
    "## Preparación del entrenamiento de la red neuronal"
   ]
  },
  {
   "cell_type": "markdown",
   "id": "eefff89c",
   "metadata": {},
   "source": [
    "Asignación de los datos de entrenamiento"
   ]
  },
  {
   "cell_type": "code",
   "execution_count": 129,
   "id": "3155956a",
   "metadata": {},
   "outputs": [],
   "source": [
    "seed = 1\n",
    "X_train, X_test, y_train, y_test = train_test_split(X, y, test_size=0.33, random_state=seed)"
   ]
  },
  {
   "cell_type": "markdown",
   "id": "727a34d0",
   "metadata": {},
   "source": [
    "## Entrenamiento de la red neuronal"
   ]
  },
  {
   "cell_type": "markdown",
   "id": "0011beb4",
   "metadata": {},
   "source": [
    "Entrenamiento por medio de diferentes conbinaciones por medio de la validación cruzada con alpha regular"
   ]
  },
  {
   "cell_type": "code",
   "execution_count": 130,
   "id": "a05cff14",
   "metadata": {},
   "outputs": [
    {
     "data": {
      "text/plain": [
       "([0.1632974910394265,\n",
       "  0.22120229706436603,\n",
       "  0.28310914575620455,\n",
       "  0.28310914575620455,\n",
       "  0.27632916103504335,\n",
       "  0.27632916103504335,\n",
       "  0.27632916103504335,\n",
       "  0.27632916103504335,\n",
       "  0.27632916103504335],\n",
       " [0.006619092595549127,\n",
       "  0.052655265251461345,\n",
       "  0.08461885410568176,\n",
       "  0.08461885410568176,\n",
       "  0.07403933966805967,\n",
       "  0.07403933966805967,\n",
       "  0.07403933966805967,\n",
       "  0.07403933966805967,\n",
       "  0.07403933966805967])"
      ]
     },
     "execution_count": 130,
     "metadata": {},
     "output_type": "execute_result"
    }
   ],
   "source": [
    "from sklearn.neural_network import MLPClassifier\n",
    "from sklearn.model_selection import cross_val_score\n",
    "from sklearn.metrics import mean_squared_error\n",
    "import numpy as np\n",
    "\n",
    "cv_scores_mean=[]\n",
    "cv_scores_std=[]\n",
    "\n",
    "regul_param_range = 10.0 ** -np.arange(-2, 7)\n",
    "for regul_param in regul_param_range:\n",
    "    mlp=MLPClassifier(hidden_layer_sizes=(10,), activation='logistic', solver='adam', alpha=regul_param, \n",
    "             learning_rate='constant', learning_rate_init=0.0001, max_iter=100000, random_state=seed)\n",
    "    \n",
    "    scores = cross_val_score(mlp, X, y, cv=5, scoring='f1_macro')\n",
    "    \n",
    "    cv_scores_mean.append(scores.mean())\n",
    "    cv_scores_std.append(scores.std())\n",
    "\n",
    "cv_scores_mean, cv_scores_std"
   ]
  },
  {
   "cell_type": "markdown",
   "id": "42d4af45",
   "metadata": {},
   "source": [
    "Generación de la grafica de curva de aprendizaje con alpha regular"
   ]
  },
  {
   "cell_type": "code",
   "execution_count": 131,
   "id": "2980b326",
   "metadata": {},
   "outputs": [
    {
     "data": {
      "image/png": "[encoded data removed]",
      "text/plain": [
       "<Figure size 432x288 with 1 Axes>"
      ]
     },
     "metadata": {
      "needs_background": "light"
     },
     "output_type": "display_data"
    }
   ],
   "source": [
    "import matplotlib.pyplot as plt\n",
    "\n",
    "plt.plot(np.log10(regul_param_range), cv_scores_mean, color=\"g\", label=\"Test\")\n",
    "\n",
    "lower_limit = np.array(cv_scores_mean) - np.array(cv_scores_std)\n",
    "upper_limit = np.array(cv_scores_mean) + np.array(cv_scores_std)\n",
    "plt.fill_between(np.log10(regul_param_range), lower_limit, upper_limit, color=\"#DDDDDD\")\n",
    "\n",
    "plt.title(\"Curva de aprendizaje\")\n",
    "plt.xlabel(\"Alpha 10^{X}\"), plt.ylabel(\"F1\"), plt.legend(loc=\"best\")\n",
    "plt.tight_layout()\n",
    "plt.show()"
   ]
  },
  {
   "cell_type": "markdown",
   "id": "75226dfe",
   "metadata": {},
   "source": [
    "Entrenamiento por medio de diferentes conbinaciones por medio de la validación cruzada con alpha en 1"
   ]
  },
  {
   "cell_type": "code",
   "execution_count": 132,
   "id": "ca1d3eb9",
   "metadata": {},
   "outputs": [
    {
     "data": {
      "text/plain": [
       "([0.16989247311827954,\n",
       "  0.47336267963202944,\n",
       "  0.44588438794321145,\n",
       "  0.4400336373865786,\n",
       "  0.28310914575620455,\n",
       "  0.192151348013417,\n",
       "  0.192151348013417],\n",
       " [0.002633859938476533,\n",
       "  0.06350866559434944,\n",
       "  0.062249623451764734,\n",
       "  0.07170676112117981,\n",
       "  0.08461885410568176,\n",
       "  0.036543909929773126,\n",
       "  0.036543909929773126])"
      ]
     },
     "execution_count": 132,
     "metadata": {},
     "output_type": "execute_result"
    }
   ],
   "source": [
    "from sklearn.neural_network import MLPClassifier\n",
    "from sklearn.model_selection import cross_val_score\n",
    "from sklearn.metrics import mean_squared_error\n",
    "import numpy as np\n",
    "\n",
    "cv_scores_mean=[]\n",
    "cv_scores_std=[]\n",
    "\n",
    "regul_param_range = 10.0 ** -np.arange(0, 7)\n",
    "for regul_param in regul_param_range:\n",
    "    mlp=MLPClassifier(hidden_layer_sizes=(10,), activation='logistic', solver='adam', alpha=1, \n",
    "             learning_rate='constant', learning_rate_init=regul_param, max_iter=100000, random_state=seed)\n",
    "    \n",
    "    scores = cross_val_score(mlp, X, y, cv=5, scoring='f1_macro')\n",
    "    \n",
    "    cv_scores_mean.append(scores.mean())\n",
    "    cv_scores_std.append(scores.std())\n",
    "\n",
    "cv_scores_mean, cv_scores_std"
   ]
  },
  {
   "cell_type": "markdown",
   "id": "fe73b310",
   "metadata": {},
   "source": [
    "Generación de la grafica de curva de aprendizaje con alpha 1"
   ]
  },
  {
   "cell_type": "code",
   "execution_count": 133,
   "id": "ebc902e0",
   "metadata": {},
   "outputs": [
    {
     "data": {
      "image/png": "[encoded data removed]",
      "text/plain": [
       "<Figure size 432x288 with 1 Axes>"
      ]
     },
     "metadata": {
      "needs_background": "light"
     },
     "output_type": "display_data"
    }
   ],
   "source": [
    "import matplotlib.pyplot as plt\n",
    "\n",
    "plt.plot(np.log10(regul_param_range), cv_scores_mean, color=\"g\", label=\"Test\")\n",
    "\n",
    "lower_limit = np.array(cv_scores_mean) - np.array(cv_scores_std)\n",
    "upper_limit = np.array(cv_scores_mean) + np.array(cv_scores_std)\n",
    "plt.fill_between(np.log10(regul_param_range), lower_limit, upper_limit, color=\"#DDDDDD\")\n",
    "\n",
    "plt.title(\"Curva de aprendizaje\")\n",
    "plt.xlabel(\"Learning Rate 10^{-X}\"), plt.ylabel(\"F1\"), plt.legend(loc=\"best\")\n",
    "plt.tight_layout()\n",
    "plt.show()"
   ]
  },
  {
   "cell_type": "markdown",
   "id": "dc957064",
   "metadata": {},
   "source": [
    "## Generación del modelo final de la red neuronal"
   ]
  },
  {
   "cell_type": "markdown",
   "id": "869808df",
   "metadata": {},
   "source": [
    "Se genera el modelo final de la red neuronal a partir de los datos anteriormente entrenados"
   ]
  },
  {
   "cell_type": "code",
   "execution_count": 134,
   "id": "6a550416",
   "metadata": {},
   "outputs": [
    {
     "data": {
      "text/plain": [
       "MLPClassifier(activation='logistic', alpha=0.001, hidden_layer_sizes=(10,),\n",
       "              learning_rate_init=0.1, max_iter=100000, random_state=42)"
      ]
     },
     "execution_count": 134,
     "metadata": {},
     "output_type": "execute_result"
    }
   ],
   "source": [
    "mlp=MLPClassifier(hidden_layer_sizes=(10,), activation='logistic', solver='adam', alpha=0.001, \n",
    "             learning_rate='constant', learning_rate_init=0.1, max_iter=100000, random_state=42)\n",
    "\n",
    "mlp.fit(X_train, y_train)"
   ]
  },
  {
   "cell_type": "markdown",
   "id": "0a083288",
   "metadata": {},
   "source": [
    "Se guarda el modelo final de la red neuronal"
   ]
  },
  {
   "cell_type": "code",
   "execution_count": 135,
   "id": "e65b99c2",
   "metadata": {},
   "outputs": [
    {
     "data": {
      "text/plain": [
       "['modelo_depresion.pkl']"
      ]
     },
     "execution_count": 135,
     "metadata": {},
     "output_type": "execute_result"
    }
   ],
   "source": [
    "import joblib\n",
    "\n",
    "joblib.dump(mlp,\"modelo_depresion.pkl\")"
   ]
  },
  {
   "cell_type": "markdown",
   "id": "c02282ba",
   "metadata": {},
   "source": [
    "## Preparación de la explicabilidad del red neuronal"
   ]
  },
  {
   "cell_type": "markdown",
   "id": "8e000a05",
   "metadata": {},
   "source": [
    "Uso del counterfactuals para la explicabilidad"
   ]
  },
  {
   "cell_type": "code",
   "execution_count": 136,
   "id": "ef2a592a",
   "metadata": {},
   "outputs": [
    {
     "name": "stderr",
     "output_type": "stream",
     "text": [
      "  0%|                                                                                            | 0/2 [00:00<?, ?it/s]The frame.append method is deprecated and will be removed from pandas in a future version. Use pandas.concat instead.\n",
      " 50%|██████████████████████████████████████████                                          | 1/2 [00:00<00:00,  3.32it/s]The frame.append method is deprecated and will be removed from pandas in a future version. Use pandas.concat instead.\n",
      "100%|████████████████████████████████████████████████████████████████████████████████████| 2/2 [00:00<00:00,  3.44it/s]"
     ]
    },
    {
     "name": "stdout",
     "output_type": "stream",
     "text": [
      "Query instance (original outcome : 1)\n"
     ]
    },
    {
     "name": "stderr",
     "output_type": "stream",
     "text": [
      "\n"
     ]
    },
    {
     "data": {
      "text/html": [
       "<div>\n",
       "<style scoped>\n",
       "    .dataframe tbody tr th:only-of-type {\n",
       "        vertical-align: middle;\n",
       "    }\n",
       "\n",
       "    .dataframe tbody tr th {\n",
       "        vertical-align: top;\n",
       "    }\n",
       "\n",
       "    .dataframe thead th {\n",
       "        text-align: right;\n",
       "    }\n",
       "</style>\n",
       "<table border=\"1\" class=\"dataframe\">\n",
       "  <thead>\n",
       "    <tr style=\"text-align: right;\">\n",
       "      <th></th>\n",
       "      <th>1. Most of the time I have difficulty concentrating on simple tasks</th>\n",
       "      <th>2. I don't feel like doing my daily duties</th>\n",
       "      <th>3. My friends or family have told me that I look different</th>\n",
       "      <th>7. My hobbies are still important to me</th>\n",
       "      <th>8. I'm still as punctual as I have always been</th>\n",
       "      <th>9. If I had the chance, I would spend all day in my bed</th>\n",
       "      <th>10. I have found that I can spend a lot of time scrolling the screen \\nof my cell phone without searching or stopping at anything in particular</th>\n",
       "      <th>11. When someone asks me something, I have noticed that I take longer than normal to\\nrespond</th>\n",
       "      <th>12. I have noticed my body shaken without any cause</th>\n",
       "      <th>15. In recent months I usually reproach myself for things from the past</th>\n",
       "      <th>...</th>\n",
       "      <th>88</th>\n",
       "      <th>89. It makes me laugh when my superiors at school or at work demand something</th>\n",
       "      <th>90. Deceiving people is not wrong if it is to achieve something important</th>\n",
       "      <th>93. People steal because they have needs</th>\n",
       "      <th>95. Neighbors must put up with each other's noises without complaining</th>\n",
       "      <th>98. It is normal to change jobs several times a year</th>\n",
       "      <th>99. It is important to respect turns</th>\n",
       "      <th>100. I could pretend to be someone else to achieve what I want</th>\n",
       "      <th>102. I have a hard time taking  \"no\" for an answer</th>\n",
       "      <th>Target</th>\n",
       "    </tr>\n",
       "  </thead>\n",
       "  <tbody>\n",
       "    <tr>\n",
       "      <th>0</th>\n",
       "      <td>1</td>\n",
       "      <td>0</td>\n",
       "      <td>1</td>\n",
       "      <td>1</td>\n",
       "      <td>0</td>\n",
       "      <td>0</td>\n",
       "      <td>0</td>\n",
       "      <td>0</td>\n",
       "      <td>0</td>\n",
       "      <td>0</td>\n",
       "      <td>...</td>\n",
       "      <td>0</td>\n",
       "      <td>0</td>\n",
       "      <td>1</td>\n",
       "      <td>0</td>\n",
       "      <td>1</td>\n",
       "      <td>1</td>\n",
       "      <td>0</td>\n",
       "      <td>1</td>\n",
       "      <td>1</td>\n",
       "      <td>1</td>\n",
       "    </tr>\n",
       "  </tbody>\n",
       "</table>\n",
       "<p>1 rows × 60 columns</p>\n",
       "</div>"
      ],
      "text/plain": [
       "   1. Most of the time I have difficulty concentrating on simple tasks  \\\n",
       "0                                                  1                     \n",
       "\n",
       "   2. I don't feel like doing my daily duties  \\\n",
       "0                                           0   \n",
       "\n",
       "   3. My friends or family have told me that I look different  \\\n",
       "0                                                  1            \n",
       "\n",
       "   7. My hobbies are still important to me  \\\n",
       "0                                        1   \n",
       "\n",
       "   8. I'm still as punctual as I have always been  \\\n",
       "0                                               0   \n",
       "\n",
       "   9. If I had the chance, I would spend all day in my bed  \\\n",
       "0                                                  0         \n",
       "\n",
       "   10. I have found that I can spend a lot of time scrolling the screen \\nof my cell phone without searching or stopping at anything in particular  \\\n",
       "0                                                  0                                                                                                 \n",
       "\n",
       "   11. When someone asks me something, I have noticed that I take longer than normal to\\nrespond  \\\n",
       "0                                                  0                                               \n",
       "\n",
       "   12. I have noticed my body shaken without any cause  \\\n",
       "0                                                  0     \n",
       "\n",
       "   15. In recent months I usually reproach myself for things from the past  \\\n",
       "0                                                  0                         \n",
       "\n",
       "   ...  88  \\\n",
       "0  ...   0   \n",
       "\n",
       "   89. It makes me laugh when my superiors at school or at work demand something  \\\n",
       "0                                                  0                               \n",
       "\n",
       "   90. Deceiving people is not wrong if it is to achieve something important  \\\n",
       "0                                                  1                           \n",
       "\n",
       "   93. People steal because they have needs  \\\n",
       "0                                         0   \n",
       "\n",
       "   95. Neighbors must put up with each other's noises without complaining  \\\n",
       "0                                                  1                        \n",
       "\n",
       "   98. It is normal to change jobs several times a year  \\\n",
       "0                                                  1      \n",
       "\n",
       "   99. It is important to respect turns  \\\n",
       "0                                     0   \n",
       "\n",
       "   100. I could pretend to be someone else to achieve what I want  \\\n",
       "0                                                  1                \n",
       "\n",
       "   102. I have a hard time taking  \"no\" for an answer  Target  \n",
       "0                                                  1        1  \n",
       "\n",
       "[1 rows x 60 columns]"
      ]
     },
     "metadata": {},
     "output_type": "display_data"
    },
    {
     "name": "stdout",
     "output_type": "stream",
     "text": [
      "\n",
      "Diverse Counterfactual set (new outcome: 2)\n"
     ]
    },
    {
     "data": {
      "text/html": [
       "<div>\n",
       "<style scoped>\n",
       "    .dataframe tbody tr th:only-of-type {\n",
       "        vertical-align: middle;\n",
       "    }\n",
       "\n",
       "    .dataframe tbody tr th {\n",
       "        vertical-align: top;\n",
       "    }\n",
       "\n",
       "    .dataframe thead th {\n",
       "        text-align: right;\n",
       "    }\n",
       "</style>\n",
       "<table border=\"1\" class=\"dataframe\">\n",
       "  <thead>\n",
       "    <tr style=\"text-align: right;\">\n",
       "      <th></th>\n",
       "      <th>1. Most of the time I have difficulty concentrating on simple tasks</th>\n",
       "      <th>2. I don't feel like doing my daily duties</th>\n",
       "      <th>3. My friends or family have told me that I look different</th>\n",
       "      <th>7. My hobbies are still important to me</th>\n",
       "      <th>8. I'm still as punctual as I have always been</th>\n",
       "      <th>9. If I had the chance, I would spend all day in my bed</th>\n",
       "      <th>10. I have found that I can spend a lot of time scrolling the screen \\nof my cell phone without searching or stopping at anything in particular</th>\n",
       "      <th>11. When someone asks me something, I have noticed that I take longer than normal to\\nrespond</th>\n",
       "      <th>12. I have noticed my body shaken without any cause</th>\n",
       "      <th>15. In recent months I usually reproach myself for things from the past</th>\n",
       "      <th>...</th>\n",
       "      <th>88</th>\n",
       "      <th>89. It makes me laugh when my superiors at school or at work demand something</th>\n",
       "      <th>90. Deceiving people is not wrong if it is to achieve something important</th>\n",
       "      <th>93. People steal because they have needs</th>\n",
       "      <th>95. Neighbors must put up with each other's noises without complaining</th>\n",
       "      <th>98. It is normal to change jobs several times a year</th>\n",
       "      <th>99. It is important to respect turns</th>\n",
       "      <th>100. I could pretend to be someone else to achieve what I want</th>\n",
       "      <th>102. I have a hard time taking  \"no\" for an answer</th>\n",
       "      <th>Target</th>\n",
       "    </tr>\n",
       "  </thead>\n",
       "  <tbody>\n",
       "    <tr>\n",
       "      <th>0</th>\n",
       "      <td>-</td>\n",
       "      <td>-</td>\n",
       "      <td>-</td>\n",
       "      <td>-</td>\n",
       "      <td>-</td>\n",
       "      <td>-</td>\n",
       "      <td>1</td>\n",
       "      <td>-</td>\n",
       "      <td>-</td>\n",
       "      <td>-</td>\n",
       "      <td>...</td>\n",
       "      <td>-</td>\n",
       "      <td>1</td>\n",
       "      <td>-</td>\n",
       "      <td>-</td>\n",
       "      <td>-</td>\n",
       "      <td>-</td>\n",
       "      <td>-</td>\n",
       "      <td>-</td>\n",
       "      <td>-</td>\n",
       "      <td>2</td>\n",
       "    </tr>\n",
       "    <tr>\n",
       "      <th>1</th>\n",
       "      <td>-</td>\n",
       "      <td>-</td>\n",
       "      <td>-</td>\n",
       "      <td>-</td>\n",
       "      <td>-</td>\n",
       "      <td>-</td>\n",
       "      <td>-</td>\n",
       "      <td>-</td>\n",
       "      <td>-</td>\n",
       "      <td>-</td>\n",
       "      <td>...</td>\n",
       "      <td>-</td>\n",
       "      <td>-</td>\n",
       "      <td>1</td>\n",
       "      <td>-</td>\n",
       "      <td>0</td>\n",
       "      <td>-</td>\n",
       "      <td>-</td>\n",
       "      <td>-</td>\n",
       "      <td>-</td>\n",
       "      <td>2</td>\n",
       "    </tr>\n",
       "  </tbody>\n",
       "</table>\n",
       "<p>2 rows × 60 columns</p>\n",
       "</div>"
      ],
      "text/plain": [
       "  1. Most of the time I have difficulty concentrating on simple tasks  \\\n",
       "0                                                  -                    \n",
       "1                                                  -                    \n",
       "\n",
       "  2. I don't feel like doing my daily duties  \\\n",
       "0                                          -   \n",
       "1                                          -   \n",
       "\n",
       "  3. My friends or family have told me that I look different  \\\n",
       "0                                                  -           \n",
       "1                                                  -           \n",
       "\n",
       "  7. My hobbies are still important to me  \\\n",
       "0                                       -   \n",
       "1                                       -   \n",
       "\n",
       "  8. I'm still as punctual as I have always been  \\\n",
       "0                                              -   \n",
       "1                                              -   \n",
       "\n",
       "  9. If I had the chance, I would spend all day in my bed  \\\n",
       "0                                                  -        \n",
       "1                                                  -        \n",
       "\n",
       "  10. I have found that I can spend a lot of time scrolling the screen \\nof my cell phone without searching or stopping at anything in particular  \\\n",
       "0                                                  1                                                                                                \n",
       "1                                                  -                                                                                                \n",
       "\n",
       "  11. When someone asks me something, I have noticed that I take longer than normal to\\nrespond  \\\n",
       "0                                                  -                                              \n",
       "1                                                  -                                              \n",
       "\n",
       "  12. I have noticed my body shaken without any cause  \\\n",
       "0                                                  -    \n",
       "1                                                  -    \n",
       "\n",
       "  15. In recent months I usually reproach myself for things from the past  \\\n",
       "0                                                  -                        \n",
       "1                                                  -                        \n",
       "\n",
       "   ... 88  \\\n",
       "0  ...  -   \n",
       "1  ...  -   \n",
       "\n",
       "  89. It makes me laugh when my superiors at school or at work demand something  \\\n",
       "0                                                  1                              \n",
       "1                                                  -                              \n",
       "\n",
       "  90. Deceiving people is not wrong if it is to achieve something important  \\\n",
       "0                                                  -                          \n",
       "1                                                  1                          \n",
       "\n",
       "  93. People steal because they have needs  \\\n",
       "0                                        -   \n",
       "1                                        -   \n",
       "\n",
       "  95. Neighbors must put up with each other's noises without complaining  \\\n",
       "0                                                  -                       \n",
       "1                                                  0                       \n",
       "\n",
       "  98. It is normal to change jobs several times a year  \\\n",
       "0                                                  -     \n",
       "1                                                  -     \n",
       "\n",
       "  99. It is important to respect turns  \\\n",
       "0                                    -   \n",
       "1                                    -   \n",
       "\n",
       "  100. I could pretend to be someone else to achieve what I want  \\\n",
       "0                                                  -               \n",
       "1                                                  -               \n",
       "\n",
       "  102. I have a hard time taking  \"no\" for an answer Target  \n",
       "0                                                  -      2  \n",
       "1                                                  -      2  \n",
       "\n",
       "[2 rows x 60 columns]"
      ]
     },
     "metadata": {},
     "output_type": "display_data"
    },
    {
     "name": "stdout",
     "output_type": "stream",
     "text": [
      "Query instance (original outcome : 0)\n"
     ]
    },
    {
     "data": {
      "text/html": [
       "<div>\n",
       "<style scoped>\n",
       "    .dataframe tbody tr th:only-of-type {\n",
       "        vertical-align: middle;\n",
       "    }\n",
       "\n",
       "    .dataframe tbody tr th {\n",
       "        vertical-align: top;\n",
       "    }\n",
       "\n",
       "    .dataframe thead th {\n",
       "        text-align: right;\n",
       "    }\n",
       "</style>\n",
       "<table border=\"1\" class=\"dataframe\">\n",
       "  <thead>\n",
       "    <tr style=\"text-align: right;\">\n",
       "      <th></th>\n",
       "      <th>1. Most of the time I have difficulty concentrating on simple tasks</th>\n",
       "      <th>2. I don't feel like doing my daily duties</th>\n",
       "      <th>3. My friends or family have told me that I look different</th>\n",
       "      <th>7. My hobbies are still important to me</th>\n",
       "      <th>8. I'm still as punctual as I have always been</th>\n",
       "      <th>9. If I had the chance, I would spend all day in my bed</th>\n",
       "      <th>10. I have found that I can spend a lot of time scrolling the screen \\nof my cell phone without searching or stopping at anything in particular</th>\n",
       "      <th>11. When someone asks me something, I have noticed that I take longer than normal to\\nrespond</th>\n",
       "      <th>12. I have noticed my body shaken without any cause</th>\n",
       "      <th>15. In recent months I usually reproach myself for things from the past</th>\n",
       "      <th>...</th>\n",
       "      <th>88</th>\n",
       "      <th>89. It makes me laugh when my superiors at school or at work demand something</th>\n",
       "      <th>90. Deceiving people is not wrong if it is to achieve something important</th>\n",
       "      <th>93. People steal because they have needs</th>\n",
       "      <th>95. Neighbors must put up with each other's noises without complaining</th>\n",
       "      <th>98. It is normal to change jobs several times a year</th>\n",
       "      <th>99. It is important to respect turns</th>\n",
       "      <th>100. I could pretend to be someone else to achieve what I want</th>\n",
       "      <th>102. I have a hard time taking  \"no\" for an answer</th>\n",
       "      <th>Target</th>\n",
       "    </tr>\n",
       "  </thead>\n",
       "  <tbody>\n",
       "    <tr>\n",
       "      <th>0</th>\n",
       "      <td>1</td>\n",
       "      <td>0</td>\n",
       "      <td>0</td>\n",
       "      <td>1</td>\n",
       "      <td>1</td>\n",
       "      <td>0</td>\n",
       "      <td>1</td>\n",
       "      <td>1</td>\n",
       "      <td>0</td>\n",
       "      <td>1</td>\n",
       "      <td>...</td>\n",
       "      <td>0</td>\n",
       "      <td>0</td>\n",
       "      <td>0</td>\n",
       "      <td>0</td>\n",
       "      <td>1</td>\n",
       "      <td>1</td>\n",
       "      <td>0</td>\n",
       "      <td>1</td>\n",
       "      <td>1</td>\n",
       "      <td>0</td>\n",
       "    </tr>\n",
       "  </tbody>\n",
       "</table>\n",
       "<p>1 rows × 60 columns</p>\n",
       "</div>"
      ],
      "text/plain": [
       "   1. Most of the time I have difficulty concentrating on simple tasks  \\\n",
       "0                                                  1                     \n",
       "\n",
       "   2. I don't feel like doing my daily duties  \\\n",
       "0                                           0   \n",
       "\n",
       "   3. My friends or family have told me that I look different  \\\n",
       "0                                                  0            \n",
       "\n",
       "   7. My hobbies are still important to me  \\\n",
       "0                                        1   \n",
       "\n",
       "   8. I'm still as punctual as I have always been  \\\n",
       "0                                               1   \n",
       "\n",
       "   9. If I had the chance, I would spend all day in my bed  \\\n",
       "0                                                  0         \n",
       "\n",
       "   10. I have found that I can spend a lot of time scrolling the screen \\nof my cell phone without searching or stopping at anything in particular  \\\n",
       "0                                                  1                                                                                                 \n",
       "\n",
       "   11. When someone asks me something, I have noticed that I take longer than normal to\\nrespond  \\\n",
       "0                                                  1                                               \n",
       "\n",
       "   12. I have noticed my body shaken without any cause  \\\n",
       "0                                                  0     \n",
       "\n",
       "   15. In recent months I usually reproach myself for things from the past  \\\n",
       "0                                                  1                         \n",
       "\n",
       "   ...  88  \\\n",
       "0  ...   0   \n",
       "\n",
       "   89. It makes me laugh when my superiors at school or at work demand something  \\\n",
       "0                                                  0                               \n",
       "\n",
       "   90. Deceiving people is not wrong if it is to achieve something important  \\\n",
       "0                                                  0                           \n",
       "\n",
       "   93. People steal because they have needs  \\\n",
       "0                                         0   \n",
       "\n",
       "   95. Neighbors must put up with each other's noises without complaining  \\\n",
       "0                                                  1                        \n",
       "\n",
       "   98. It is normal to change jobs several times a year  \\\n",
       "0                                                  1      \n",
       "\n",
       "   99. It is important to respect turns  \\\n",
       "0                                     0   \n",
       "\n",
       "   100. I could pretend to be someone else to achieve what I want  \\\n",
       "0                                                  1                \n",
       "\n",
       "   102. I have a hard time taking  \"no\" for an answer  Target  \n",
       "0                                                  1        0  \n",
       "\n",
       "[1 rows x 60 columns]"
      ]
     },
     "metadata": {},
     "output_type": "display_data"
    },
    {
     "name": "stdout",
     "output_type": "stream",
     "text": [
      "\n",
      "Diverse Counterfactual set (new outcome: 2)\n"
     ]
    },
    {
     "data": {
      "text/html": [
       "<div>\n",
       "<style scoped>\n",
       "    .dataframe tbody tr th:only-of-type {\n",
       "        vertical-align: middle;\n",
       "    }\n",
       "\n",
       "    .dataframe tbody tr th {\n",
       "        vertical-align: top;\n",
       "    }\n",
       "\n",
       "    .dataframe thead th {\n",
       "        text-align: right;\n",
       "    }\n",
       "</style>\n",
       "<table border=\"1\" class=\"dataframe\">\n",
       "  <thead>\n",
       "    <tr style=\"text-align: right;\">\n",
       "      <th></th>\n",
       "      <th>1. Most of the time I have difficulty concentrating on simple tasks</th>\n",
       "      <th>2. I don't feel like doing my daily duties</th>\n",
       "      <th>3. My friends or family have told me that I look different</th>\n",
       "      <th>7. My hobbies are still important to me</th>\n",
       "      <th>8. I'm still as punctual as I have always been</th>\n",
       "      <th>9. If I had the chance, I would spend all day in my bed</th>\n",
       "      <th>10. I have found that I can spend a lot of time scrolling the screen \\nof my cell phone without searching or stopping at anything in particular</th>\n",
       "      <th>11. When someone asks me something, I have noticed that I take longer than normal to\\nrespond</th>\n",
       "      <th>12. I have noticed my body shaken without any cause</th>\n",
       "      <th>15. In recent months I usually reproach myself for things from the past</th>\n",
       "      <th>...</th>\n",
       "      <th>88</th>\n",
       "      <th>89. It makes me laugh when my superiors at school or at work demand something</th>\n",
       "      <th>90. Deceiving people is not wrong if it is to achieve something important</th>\n",
       "      <th>93. People steal because they have needs</th>\n",
       "      <th>95. Neighbors must put up with each other's noises without complaining</th>\n",
       "      <th>98. It is normal to change jobs several times a year</th>\n",
       "      <th>99. It is important to respect turns</th>\n",
       "      <th>100. I could pretend to be someone else to achieve what I want</th>\n",
       "      <th>102. I have a hard time taking  \"no\" for an answer</th>\n",
       "      <th>Target</th>\n",
       "    </tr>\n",
       "  </thead>\n",
       "  <tbody>\n",
       "    <tr>\n",
       "      <th>0</th>\n",
       "      <td>-</td>\n",
       "      <td>-</td>\n",
       "      <td>-</td>\n",
       "      <td>-</td>\n",
       "      <td>-</td>\n",
       "      <td>-</td>\n",
       "      <td>-</td>\n",
       "      <td>1</td>\n",
       "      <td>-</td>\n",
       "      <td>-</td>\n",
       "      <td>...</td>\n",
       "      <td>-</td>\n",
       "      <td>-</td>\n",
       "      <td>-</td>\n",
       "      <td>-</td>\n",
       "      <td>-</td>\n",
       "      <td>-</td>\n",
       "      <td>-</td>\n",
       "      <td>-</td>\n",
       "      <td>-</td>\n",
       "      <td>2</td>\n",
       "    </tr>\n",
       "    <tr>\n",
       "      <th>1</th>\n",
       "      <td>-</td>\n",
       "      <td>-</td>\n",
       "      <td>-</td>\n",
       "      <td>-</td>\n",
       "      <td>-</td>\n",
       "      <td>-</td>\n",
       "      <td>-</td>\n",
       "      <td>-</td>\n",
       "      <td>-</td>\n",
       "      <td>-</td>\n",
       "      <td>...</td>\n",
       "      <td>-</td>\n",
       "      <td>-</td>\n",
       "      <td>-</td>\n",
       "      <td>0</td>\n",
       "      <td>-</td>\n",
       "      <td>-</td>\n",
       "      <td>-</td>\n",
       "      <td>-</td>\n",
       "      <td>-</td>\n",
       "      <td>2</td>\n",
       "    </tr>\n",
       "  </tbody>\n",
       "</table>\n",
       "<p>2 rows × 60 columns</p>\n",
       "</div>"
      ],
      "text/plain": [
       "  1. Most of the time I have difficulty concentrating on simple tasks  \\\n",
       "0                                                  -                    \n",
       "1                                                  -                    \n",
       "\n",
       "  2. I don't feel like doing my daily duties  \\\n",
       "0                                          -   \n",
       "1                                          -   \n",
       "\n",
       "  3. My friends or family have told me that I look different  \\\n",
       "0                                                  -           \n",
       "1                                                  -           \n",
       "\n",
       "  7. My hobbies are still important to me  \\\n",
       "0                                       -   \n",
       "1                                       -   \n",
       "\n",
       "  8. I'm still as punctual as I have always been  \\\n",
       "0                                              -   \n",
       "1                                              -   \n",
       "\n",
       "  9. If I had the chance, I would spend all day in my bed  \\\n",
       "0                                                  -        \n",
       "1                                                  -        \n",
       "\n",
       "  10. I have found that I can spend a lot of time scrolling the screen \\nof my cell phone without searching or stopping at anything in particular  \\\n",
       "0                                                  -                                                                                                \n",
       "1                                                  -                                                                                                \n",
       "\n",
       "  11. When someone asks me something, I have noticed that I take longer than normal to\\nrespond  \\\n",
       "0                                                  1                                              \n",
       "1                                                  -                                              \n",
       "\n",
       "  12. I have noticed my body shaken without any cause  \\\n",
       "0                                                  -    \n",
       "1                                                  -    \n",
       "\n",
       "  15. In recent months I usually reproach myself for things from the past  \\\n",
       "0                                                  -                        \n",
       "1                                                  -                        \n",
       "\n",
       "   ... 88  \\\n",
       "0  ...  -   \n",
       "1  ...  -   \n",
       "\n",
       "  89. It makes me laugh when my superiors at school or at work demand something  \\\n",
       "0                                                  -                              \n",
       "1                                                  -                              \n",
       "\n",
       "  90. Deceiving people is not wrong if it is to achieve something important  \\\n",
       "0                                                  -                          \n",
       "1                                                  -                          \n",
       "\n",
       "  93. People steal because they have needs  \\\n",
       "0                                        -   \n",
       "1                                        0   \n",
       "\n",
       "  95. Neighbors must put up with each other's noises without complaining  \\\n",
       "0                                                  -                       \n",
       "1                                                  -                       \n",
       "\n",
       "  98. It is normal to change jobs several times a year  \\\n",
       "0                                                  -     \n",
       "1                                                  -     \n",
       "\n",
       "  99. It is important to respect turns  \\\n",
       "0                                    -   \n",
       "1                                    -   \n",
       "\n",
       "  100. I could pretend to be someone else to achieve what I want  \\\n",
       "0                                                  -               \n",
       "1                                                  -               \n",
       "\n",
       "  102. I have a hard time taking  \"no\" for an answer Target  \n",
       "0                                                  -      2  \n",
       "1                                                  -      2  \n",
       "\n",
       "[2 rows x 60 columns]"
      ]
     },
     "metadata": {},
     "output_type": "display_data"
    }
   ],
   "source": [
    "import dice_ml\n",
    "d = dice_ml.Data(dataframe=df, continuous_features=[], outcome_name='Target')\n",
    "m = dice_ml.Model(model=mlp, backend=\"sklearn\")\n",
    "exp = dice_ml.Dice(d, m, method=\"random\")\n",
    "\n",
    "e1 = exp.generate_counterfactuals(query_instances=X_test[0:2], total_CFs=2, desired_class=2)\n",
    "e1.visualize_as_dataframe(show_only_changes=True)"
   ]
  },
  {
   "cell_type": "markdown",
   "id": "76d17406",
   "metadata": {},
   "source": [
    "## Explicación de la red neuronal"
   ]
  },
  {
   "cell_type": "markdown",
   "id": "2622fed2",
   "metadata": {},
   "source": [
    "Preparación de los datos para la explicación de la red neuronal"
   ]
  },
  {
   "cell_type": "code",
   "execution_count": 137,
   "id": "597e982b",
   "metadata": {},
   "outputs": [
    {
     "name": "stdout",
     "output_type": "stream",
     "text": [
      "WARNING: Parameter shap='guess', but failed to guess the type of shap explainer to use for MLPClassifier. Defaulting to the model agnostic shap.KernelExplainer (shap='kernel'). However this will be slow, so if your model is compatible with e.g. shap.TreeExplainer or shap.LinearExplainer then pass shap='tree' or shap='linear'!\n",
      "WARNING: For shap='kernel', shap interaction values can unfortunately not be calculated!\n",
      "Note: shap values for shap='kernel' normally get calculated against X_background, but paramater X_background=None, so setting X_background=shap.sample(X, 50)...\n",
      "Generating self.shap_explainer = shap.KernelExplainer(model, X, link='identity')\n"
     ]
    },
    {
     "name": "stderr",
     "output_type": "stream",
     "text": [
      "The default value of regex will change from True to False in a future version. In addition, single character regular expressions will *not* be treated as literal strings when regex=True.\n",
      "The feature names should match those that were passed during fit. Starting version 1.2, an error will be raised.\n",
      "Feature names unseen at fit time:\n",
      "- 1 Most of the time I have difficulty concentrating on simple tasks\n",
      "- 10 I have found that I can spend a lot of time scrolling the screen \n",
      "of my cell phone without searching or stopping at anything in particular\n",
      "- 100 I could pretend to be someone else to achieve what I want\n",
      "- 102 I have a hard time taking  \"no\" for an answer\n",
      "- 11 When someone asks me something, I have noticed that I take longer than normal to\n",
      "respond\n",
      "- ...\n",
      "Feature names seen at fit time, yet now missing:\n",
      "- 1. Most of the time I have difficulty concentrating on simple tasks\n",
      "- 10. I have found that I can spend a lot of time scrolling the screen \n",
      "of my cell phone without searching or stopping at anything in particular\n",
      "- 100. I could pretend to be someone else to achieve what I want\n",
      "- 102. I have a hard time taking  \"no\" for an answer\n",
      "- 11. When someone asks me something, I have noticed that I take longer than normal to\n",
      "respond\n",
      "- ...\n",
      "\n"
     ]
    }
   ],
   "source": [
    "from explainerdashboard import ClassifierExplainer, ExplainerDashboard\n",
    "\n",
    "X_test.columns = X.columns.str.replace(r\".\", \"\")\n",
    "explainer = ClassifierExplainer(mlp, X_test, y_test)\n",
    "#ExplainerDashboard(explainer).run(port=8052)"
   ]
  },
  {
   "cell_type": "markdown",
   "id": "1eb9df07",
   "metadata": {},
   "source": [
    "Explicación del modelo por medio de la matrix de confusión"
   ]
  },
  {
   "cell_type": "code",
   "execution_count": 138,
   "id": "7064f0cb",
   "metadata": {},
   "outputs": [
    {
     "name": "stdout",
     "output_type": "stream",
     "text": [
      "Matrix de confusión:\n",
      "[[4 3 4]\n",
      " [8 4 2]\n",
      " [5 2 7]]\n",
      "\n",
      "Classification accuracy = 38.46153846153847 %\n",
      "\n",
      "              precision    recall  f1-score   support\n",
      "\n",
      "           0       0.24      0.36      0.29        11\n",
      "           1       0.44      0.29      0.35        14\n",
      "           2       0.54      0.50      0.52        14\n",
      "\n",
      "    accuracy                           0.38        39\n",
      "   macro avg       0.41      0.38      0.38        39\n",
      "weighted avg       0.42      0.38      0.39        39\n",
      "\n"
     ]
    },
    {
     "name": "stderr",
     "output_type": "stream",
     "text": [
      "The feature names should match those that were passed during fit. Starting version 1.2, an error will be raised.\n",
      "Feature names unseen at fit time:\n",
      "- 1 Most of the time I have difficulty concentrating on simple tasks\n",
      "- 10 I have found that I can spend a lot of time scrolling the screen \n",
      "of my cell phone without searching or stopping at anything in particular\n",
      "- 100 I could pretend to be someone else to achieve what I want\n",
      "- 102 I have a hard time taking  \"no\" for an answer\n",
      "- 11 When someone asks me something, I have noticed that I take longer than normal to\n",
      "respond\n",
      "- ...\n",
      "Feature names seen at fit time, yet now missing:\n",
      "- 1. Most of the time I have difficulty concentrating on simple tasks\n",
      "- 10. I have found that I can spend a lot of time scrolling the screen \n",
      "of my cell phone without searching or stopping at anything in particular\n",
      "- 100. I could pretend to be someone else to achieve what I want\n",
      "- 102. I have a hard time taking  \"no\" for an answer\n",
      "- 11. When someone asks me something, I have noticed that I take longer than normal to\n",
      "respond\n",
      "- ...\n",
      "\n"
     ]
    }
   ],
   "source": [
    "from sklearn.metrics import precision_recall_fscore_support\n",
    "from sklearn.metrics import classification_report, confusion_matrix, accuracy_score\n",
    "\n",
    "y_pred = mlp.predict(X_test)\n",
    "\n",
    "print('Matrix de confusión:')\n",
    "print(confusion_matrix(y_test,y_pred))\n",
    "print()\n",
    "print('Classification accuracy =',accuracy_score(y_test,y_pred)*100,'%\\n')\n",
    "print(classification_report(y_test,y_pred))"
   ]
  },
  {
   "cell_type": "markdown",
   "id": "f7ce14f0",
   "metadata": {},
   "source": [
    "# Almacenamiento de los datos"
   ]
  },
  {
   "cell_type": "markdown",
   "id": "f940ffd6",
   "metadata": {},
   "source": [
    "Se recuperan los valores de importancia y se almacenan para escritura"
   ]
  },
  {
   "cell_type": "code",
   "execution_count": 139,
   "id": "23c87513",
   "metadata": {},
   "outputs": [],
   "source": [
    "from sklearn import metrics\n",
    "clf_rep = metrics.precision_recall_fscore_support(y_test,y_pred)"
   ]
  },
  {
   "cell_type": "markdown",
   "id": "5ff4c05d",
   "metadata": {},
   "source": [
    "Se prepara los datos recuperados para su escritura"
   ]
  },
  {
   "cell_type": "code",
   "execution_count": 140,
   "id": "ca32ea0c",
   "metadata": {},
   "outputs": [
    {
     "data": {
      "text/html": [
       "<div>\n",
       "<style scoped>\n",
       "    .dataframe tbody tr th:only-of-type {\n",
       "        vertical-align: middle;\n",
       "    }\n",
       "\n",
       "    .dataframe tbody tr th {\n",
       "        vertical-align: top;\n",
       "    }\n",
       "\n",
       "    .dataframe thead th {\n",
       "        text-align: right;\n",
       "    }\n",
       "</style>\n",
       "<table border=\"1\" class=\"dataframe\">\n",
       "  <thead>\n",
       "    <tr style=\"text-align: right;\">\n",
       "      <th></th>\n",
       "      <th>Question</th>\n",
       "      <th>Acurracy global</th>\n",
       "      <th>Precision_0</th>\n",
       "      <th>Recall_0</th>\n",
       "      <th>F1_score_0</th>\n",
       "      <th>Support_0</th>\n",
       "      <th>Precision_1</th>\n",
       "      <th>Recall_1</th>\n",
       "      <th>F1_score_1</th>\n",
       "      <th>Support_1</th>\n",
       "      <th>Precision_2</th>\n",
       "      <th>Recall_2</th>\n",
       "      <th>F1_score_2</th>\n",
       "      <th>Support_2</th>\n",
       "    </tr>\n",
       "  </thead>\n",
       "  <tbody>\n",
       "    <tr>\n",
       "      <th>0</th>\n",
       "      <td>[4, 5, 6, 13, 14, 25, 26, 27, 28, 31, 33, 34, ...</td>\n",
       "      <td>38.461538</td>\n",
       "      <td>0.235294</td>\n",
       "      <td>0.363636</td>\n",
       "      <td>0.285714</td>\n",
       "      <td>11</td>\n",
       "      <td>0.444444</td>\n",
       "      <td>0.285714</td>\n",
       "      <td>0.347826</td>\n",
       "      <td>14</td>\n",
       "      <td>0.538462</td>\n",
       "      <td>0.5</td>\n",
       "      <td>0.518519</td>\n",
       "      <td>14</td>\n",
       "    </tr>\n",
       "  </tbody>\n",
       "</table>\n",
       "</div>"
      ],
      "text/plain": [
       "                                            Question  Acurracy global  \\\n",
       "0  [4, 5, 6, 13, 14, 25, 26, 27, 28, 31, 33, 34, ...        38.461538   \n",
       "\n",
       "   Precision_0  Recall_0  F1_score_0  Support_0  Precision_1  Recall_1  \\\n",
       "0     0.235294  0.363636    0.285714         11     0.444444  0.285714   \n",
       "\n",
       "   F1_score_1  Support_1  Precision_2  Recall_2  F1_score_2  Support_2  \n",
       "0    0.347826         14     0.538462       0.5    0.518519         14  "
      ]
     },
     "execution_count": 140,
     "metadata": {},
     "output_type": "execute_result"
    }
   ],
   "source": [
    "accuracy = accuracy_score(y_test,y_pred)*100\n",
    "precision = [clf_rep[0][0], clf_rep[0][1], clf_rep[0][2]]\n",
    "recall = [clf_rep[1][0], clf_rep[1][1], clf_rep[1][2]]\n",
    "f1_score = [clf_rep[2][0], clf_rep[2][1], clf_rep[2][2]]\n",
    "support = [clf_rep[3][0], clf_rep[3][1], clf_rep[3][2]]\n",
    "\n",
    "metrics = pd.DataFrame([[questionSelect,accuracy,precision[0],recall[0],f1_score[0],support[0],\n",
    "                                              precision[1],recall[1],f1_score[1],support[1],\n",
    "                                              precision[2],recall[2],f1_score[2],support[2]]],\n",
    "                        columns = ['Question','Acurracy global','Precision_0','Recall_0','F1_score_0', 'Support_0',\n",
    "                                                                'Precision_1','Recall_1','F1_score_1', 'Support_1',\n",
    "                                                                'Precision_2','Recall_2','F1_score_2', 'Support_2'])\n",
    "\n",
    "metrics"
   ]
  },
  {
   "cell_type": "markdown",
   "id": "07b6a30c",
   "metadata": {},
   "source": [
    "Se escriben los datos preparados en el dataset correspondiente"
   ]
  },
  {
   "cell_type": "code",
   "execution_count": 141,
   "id": "2d241e52",
   "metadata": {},
   "outputs": [],
   "source": [
    "metrics.to_csv(r\"Dataset_QS_TEST.csv\", mode = 'a', header = False, index = False)"
   ]
  },
  {
   "cell_type": "code",
   "execution_count": null,
   "id": "9cedbdfe",
   "metadata": {},
   "outputs": [],
   "source": []
  }
 ],
 "metadata": {
  "kernelspec": {
   "display_name": "Python 3 (ipykernel)",
   "language": "python",
   "name": "python3"
  },
  "language_info": {
   "codemirror_mode": {
    "name": "ipython",
    "version": 3
   },
   "file_extension": ".py",
   "mimetype": "text/x-python",
   "name": "python",
   "nbconvert_exporter": "python",
   "pygments_lexer": "ipython3",
   "version": "3.10.4"
  }
 },
 "nbformat": 4,
 "nbformat_minor": 5
}
